{
 "cells": [
  {
   "cell_type": "code",
   "execution_count": 1,
   "metadata": {},
   "outputs": [],
   "source": [
    "from matplotlib import pyplot as plt\n",
    "%matplotlib inline\n",
    "import numpy as np\n",
    "import itertools as it\n",
    "import sys\n",
    "sys.path.append(\"..\")\n",
    "from src import hierarchic_blending_operator\n",
    "from src import color_converter\n",
    "from src import color_operations\n",
    "from src import color_schemes\n",
    "from src import picture_worker\n",
    "from src import helper"
   ]
  },
  {
   "cell_type": "code",
   "execution_count": 2,
   "metadata": {},
   "outputs": [],
   "source": [
    "# For autotesting\n",
    "%load_ext autoreload\n",
    "%autoreload 2"
   ]
  },
  {
   "cell_type": "code",
   "execution_count": 3,
   "metadata": {},
   "outputs": [],
   "source": [
    "width = 9.5\n",
    "height = 9.5\n",
    "plt.rcParams['figure.figsize'] = [width, height]"
   ]
  },
  {
   "cell_type": "code",
   "execution_count": 4,
   "metadata": {},
   "outputs": [],
   "source": [
    "def generate_gaussians(gaussians):\n",
    "    return [helper.get_gaussian(*gaussian)[2] for gaussian in gaussians]"
   ]
  },
  {
   "cell_type": "code",
   "execution_count": 5,
   "metadata": {},
   "outputs": [],
   "source": [
    "size = 200"
   ]
  },
  {
   "cell_type": "code",
   "execution_count": 6,
   "metadata": {},
   "outputs": [],
   "source": [
    "x_min, x_max = -10, 10\n",
    "y_min, y_max = -10, 10\n",
    "mu_x, mu_y = 0,0\n",
    "variance_x, variance_y = 5,5\n",
    "gaussian_static = [x_min, x_max, y_min, y_max, mu_x, variance_x, mu_y, variance_y, size]"
   ]
  },
  {
   "cell_type": "code",
   "execution_count": 7,
   "metadata": {},
   "outputs": [],
   "source": [
    "colorschemes = color_schemes.get_colorbrewer_schemes()"
   ]
  },
  {
   "cell_type": "code",
   "execution_count": 8,
   "metadata": {},
   "outputs": [],
   "source": [
    "color_codes = [color_schemes.get_main_color(i)[-1] for i in colorschemes]"
   ]
  },
  {
   "cell_type": "code",
   "execution_count": null,
   "metadata": {},
   "outputs": [],
   "source": [
    "static_gaussian_rep = [gaussian_static.copy(), gaussian_static.copy(), gaussian_static.copy(), gaussian_static.copy(), gaussian_static.copy()]"
   ]
  },
  {
   "cell_type": "code",
   "execution_count": null,
   "metadata": {},
   "outputs": [
    {
     "name": "stdout",
     "output_type": "stream",
     "text": [
      "[[-10, 10, -10, 10, 0, 5, 0, 5, 200]]\n",
      "[[-10, 10, -10, 10, 0, 5, 0, 5, 200], [-10, 10, -10, 10, 0, 5, 0, 5, 200]]\n",
      "[[-10, 10, -10, 10, 0, 5, 0, 5, 200], [-10, 10, -10, 10, 0, 5, 0, 5, 200], [-10, 10, -10, 10, 0, 5, 0, 5, 200]]\n",
      "[[-10, 10, -10, 10, 0, 5, 0, 5, 200], [-10, 10, -10, 10, 0, 5, 0, 5, 200], [-10, 10, -10, 10, 0, 5, 0, 5, 200], [-10, 10, -10, 10, 0, 5, 0, 5, 200]]\n",
      "[[-10, 10, -10, 10, 0, 5, 0, 5, 200], [-10, 10, -10, 10, 0, 5, 0, 5, 200], [-10, 10, -10, 10, 0, 5, 0, 5, 200], [-10, 10, -10, 10, 0, 5, 0, 5, 200], [-10, 10, -10, 10, 0, 5, 0, 5, 200]]\n"
     ]
    }
   ],
   "source": [
    "static_gaussian_rep = [gaussian_static.copy(), gaussian_static.copy(), gaussian_static.copy(), gaussian_static.copy(), gaussian_static.copy()]\n",
    "images_overlapping = []\n",
    "z_sums = []\n",
    "gaussians = []\n",
    "for i in range(1,len(static_gaussian_rep)+1):\n",
    "    print(static_gaussian_rep[:i])\n",
    "    z_list, image, z_sum = picture_worker.generate_image(static_gaussian_rep[:i], colorschemes, useCImplementation=True)\n",
    "    images_overlapping.append(image)\n",
    "    z_sums.append(z_sum)\n",
    "    gaussians.append((static_gaussian_rep[:i]).copy())"
   ]
  },
  {
   "cell_type": "code",
   "execution_count": null,
   "metadata": {
    "scrolled": false
   },
   "outputs": [
    {
     "name": "stdout",
     "output_type": "stream",
     "text": [
      "[-10, 10, -10, 10, 0.1, 5, 0, 5, 200]\n",
      "[-10, 10, -10, 10, 0.2, 5, 0, 5, 200]\n",
      "[-10, 10, -10, 10, 0.3, 5, 0, 5, 200]\n",
      "[-10, 10, -10, 10, 0.4, 5, 0, 5, 200]\n",
      "[-10, 10, -10, 10, 0.5, 5, 0, 5, 200]\n"
     ]
    }
   ],
   "source": [
    "for i in range(1,len(static_gaussian_rep)+1):\n",
    "    if i != len(static_gaussian_rep)+1:\n",
    "        static_gaussian_rep[i-1][4] += i/10\n",
    "        print(static_gaussian_rep[i-1])\n",
    "    z_list, image, z_sum = picture_worker.generate_image(static_gaussian_rep[:i], colorschemes, useCImplementation=True)\n",
    "    images_overlapping.append(image)\n",
    "    z_sums.append(z_sum)\n",
    "    gaussians.append(static_gaussian_rep[:i].copy())"
   ]
  },
  {
   "cell_type": "code",
   "execution_count": null,
   "metadata": {},
   "outputs": [
    {
     "name": "stdout",
     "output_type": "stream",
     "text": [
      "[-10, 10, -10, 10, 0.2, 5, 0, 5, 200]\n",
      "[-10, 10, -10, 10, 0.4, 5, 0, 5, 200]\n",
      "[-10, 10, -10, 10, 0.6, 5, 0, 5, 200]\n",
      "[-10, 10, -10, 10, 0.8, 5, 0, 5, 200]\n",
      "[-10, 10, -10, 10, 1.0, 5, 0, 5, 200]\n"
     ]
    }
   ],
   "source": [
    "static_gaussian_rep = [gaussian_static.copy(), gaussian_static.copy(), gaussian_static.copy(), gaussian_static.copy(), gaussian_static.copy()]\n",
    "for i in range(1,len(static_gaussian_rep)+1):\n",
    "    if i != len(static_gaussian_rep)+1:\n",
    "        static_gaussian_rep[i-1][4] += 2*i/10\n",
    "        print(static_gaussian_rep[i-1])\n",
    "    z_list, image, z_sum = picture_worker.generate_image(static_gaussian_rep[:i], colorschemes, useCImplementation=True)\n",
    "    images_overlapping.append(image)\n",
    "    z_sums.append(z_sum)\n",
    "    gaussians.append(static_gaussian_rep[:i].copy())"
   ]
  },
  {
   "cell_type": "code",
   "execution_count": null,
   "metadata": {},
   "outputs": [
    {
     "name": "stdout",
     "output_type": "stream",
     "text": [
      "[-10, 10, -10, 10, 0.4, 5, 0, 5, 200]\n",
      "[-10, 10, -10, 10, 0.8, 5, 0, 5, 200]\n",
      "[-10, 10, -10, 10, 1.2, 5, 0, 5, 200]\n",
      "[-10, 10, -10, 10, 1.6, 5, 0, 5, 200]\n",
      "[-10, 10, -10, 10, 2.0, 5, 0, 5, 200]\n"
     ]
    }
   ],
   "source": [
    "static_gaussian_rep = [gaussian_static.copy(), gaussian_static.copy(), gaussian_static.copy(), gaussian_static.copy(), gaussian_static.copy()]\n",
    "for i in range(1,len(static_gaussian_rep)+1):\n",
    "    if i != len(static_gaussian_rep)+1:\n",
    "        static_gaussian_rep[i-1][4] += 4*(i/10)\n",
    "        print(static_gaussian_rep[i-1])\n",
    "    z_list, image, z_sum = picture_worker.generate_image(static_gaussian_rep[:i], colorschemes, useCImplementation=True)\n",
    "    images_overlapping.append(image)\n",
    "    z_sums.append(z_sum)\n",
    "    gaussians.append(static_gaussian_rep[:i].copy())"
   ]
  },
  {
   "cell_type": "code",
   "execution_count": null,
   "metadata": {},
   "outputs": [
    {
     "name": "stdout",
     "output_type": "stream",
     "text": [
      "[-10, 10, -10, 10, 1, 5, 0, 5, 200]\n",
      "[-10, 10, -10, 10, 2, 5, 0, 5, 200]\n",
      "[-10, 10, -10, 10, 3, 5, 0, 5, 200]\n",
      "[-10, 10, -10, 10, 4, 5, 0, 5, 200]\n",
      "[-10, 10, -10, 10, 5, 5, 0, 5, 200]\n"
     ]
    }
   ],
   "source": [
    "static_gaussian_rep = [gaussian_static.copy(), gaussian_static.copy(), gaussian_static.copy(), gaussian_static.copy(), gaussian_static.copy()]\n",
    "for i in range(1,len(static_gaussian_rep)+1):\n",
    "    if i != len(static_gaussian_rep)+1:\n",
    "        static_gaussian_rep[i-1][4] += i\n",
    "        print(static_gaussian_rep[i-1])\n",
    "    z_list, image, z_sum = picture_worker.generate_image(static_gaussian_rep[:i], colorschemes, useCImplementation=True)\n",
    "    images_overlapping.append(image)\n",
    "    z_sums.append(z_sum)\n",
    "    gaussians.append(static_gaussian_rep[:i].copy())"
   ]
  },
  {
   "cell_type": "code",
   "execution_count": null,
   "metadata": {},
   "outputs": [],
   "source": [
    "static_gaussian_rep = [gaussian_static.copy(), gaussian_static.copy(), gaussian_static.copy(), gaussian_static.copy(), gaussian_static.copy()]\n",
    "images_overlapping_side = []\n",
    "z_sums_side = []\n",
    "gaussians_side = []\n",
    "for i in range(1,len(static_gaussian_rep)+1):\n",
    "    z_list, image, z_sum = picture_worker.generate_image(static_gaussian_rep[:i], colorschemes, useCImplementation=True)\n",
    "    images_overlapping_side.append(image)\n",
    "    z_sums_side.append(z_sum)\n",
    "    gaussians_side.append([i.copy() for i in static_gaussian_rep[:i]])"
   ]
  },
  {
   "cell_type": "code",
   "execution_count": null,
   "metadata": {},
   "outputs": [
    {
     "name": "stdout",
     "output_type": "stream",
     "text": [
      "[[-10, 10, -10, 10, 0.1, 5, 0.1, 5, 200], [-10, 10, -10, 10, -0.1, 5, -0.1, 5, 200], [-10, 10, -10, 10, 0.1, 5, -0.1, 5, 200], [-10, 10, -10, 10, -0.1, 5, 0.1, 5, 200]]\n",
      "[[-10, 10, -10, 10, 0.4, 5, 0.4, 5, 200], [-10, 10, -10, 10, -0.4, 5, -0.4, 5, 200], [-10, 10, -10, 10, 0.4, 5, -0.4, 5, 200], [-10, 10, -10, 10, -0.4, 5, 0.4, 5, 200]]\n",
      "[[-10, 10, -10, 10, 0.9, 5, 0.9, 5, 200], [-10, 10, -10, 10, -0.9, 5, -0.9, 5, 200], [-10, 10, -10, 10, 0.9, 5, -0.9, 5, 200], [-10, 10, -10, 10, -0.9, 5, 0.9, 5, 200]]\n",
      "[[-10, 10, -10, 10, 1.6, 5, 1.6, 5, 200], [-10, 10, -10, 10, -1.6, 5, -1.6, 5, 200], [-10, 10, -10, 10, 1.6, 5, -1.6, 5, 200], [-10, 10, -10, 10, -1.6, 5, 1.6, 5, 200]]\n",
      "[[-10, 10, -10, 10, 2.5, 5, 2.5, 5, 200], [-10, 10, -10, 10, -2.5, 5, -2.5, 5, 200], [-10, 10, -10, 10, 2.5, 5, -2.5, 5, 200], [-10, 10, -10, 10, -2.5, 5, 2.5, 5, 200]]\n"
     ]
    }
   ],
   "source": [
    "static_gaussian_rep = [gaussian_static.copy(), gaussian_static.copy(), gaussian_static.copy(), gaussian_static.copy(), gaussian_static.copy()]\n",
    "for i in range(1,len(static_gaussian_rep)+1):\n",
    "    static_gaussian_rep[0][4] = +(i*i)/10\n",
    "    static_gaussian_rep[0][6] = +(i*i)/10\n",
    "    static_gaussian_rep[1][4] = -(i*i)/10\n",
    "    static_gaussian_rep[1][6] = -(i*i)/10\n",
    "    static_gaussian_rep[2][4] = +(i*i)/10\n",
    "    static_gaussian_rep[2][6] = -(i*i)/10\n",
    "    static_gaussian_rep[3][4] = -(i*i)/10\n",
    "    static_gaussian_rep[3][6] = +(i*i)/10\n",
    "    print(static_gaussian_rep[:4])\n",
    "    z_list, image, z_sum = picture_worker.generate_image(static_gaussian_rep[:4], colorschemes, useCImplementation=True)\n",
    "    images_overlapping_side.append(image)\n",
    "    z_sums_side.append(z_sum)\n",
    "    gaussians_side.append([i.copy() for i in static_gaussian_rep[:4]])"
   ]
  },
  {
   "cell_type": "code",
   "execution_count": null,
   "metadata": {},
   "outputs": [
    {
     "name": "stdout",
     "output_type": "stream",
     "text": [
      "[[-10, 10, -10, 10, 0, 5, 0, 5, 200], [-10, 10, -10, 10, 0.1, 5, 0.1, 5, 200], [-10, 10, -10, 10, -0.1, 5, -0.1, 5, 200], [-10, 10, -10, 10, 0.1, 5, -0.1, 5, 200], [-10, 10, -10, 10, -0.1, 5, 0.1, 5, 200]]\n",
      "[[-10, 10, -10, 10, 0, 5, 0, 5, 200], [-10, 10, -10, 10, 0.4, 5, 0.4, 5, 200], [-10, 10, -10, 10, -0.4, 5, -0.4, 5, 200], [-10, 10, -10, 10, 0.4, 5, -0.4, 5, 200], [-10, 10, -10, 10, -0.4, 5, 0.4, 5, 200]]\n",
      "[[-10, 10, -10, 10, 0, 5, 0, 5, 200], [-10, 10, -10, 10, 0.9, 5, 0.9, 5, 200], [-10, 10, -10, 10, -0.9, 5, -0.9, 5, 200], [-10, 10, -10, 10, 0.9, 5, -0.9, 5, 200], [-10, 10, -10, 10, -0.9, 5, 0.9, 5, 200]]\n",
      "[[-10, 10, -10, 10, 0, 5, 0, 5, 200], [-10, 10, -10, 10, 1.6, 5, 1.6, 5, 200], [-10, 10, -10, 10, -1.6, 5, -1.6, 5, 200], [-10, 10, -10, 10, 1.6, 5, -1.6, 5, 200], [-10, 10, -10, 10, -1.6, 5, 1.6, 5, 200]]\n",
      "[[-10, 10, -10, 10, 0, 5, 0, 5, 200], [-10, 10, -10, 10, 2.5, 5, 2.5, 5, 200], [-10, 10, -10, 10, -2.5, 5, -2.5, 5, 200], [-10, 10, -10, 10, 2.5, 5, -2.5, 5, 200], [-10, 10, -10, 10, -2.5, 5, 2.5, 5, 200]]\n"
     ]
    }
   ],
   "source": [
    "static_gaussian_rep = [gaussian_static.copy(), gaussian_static.copy(), gaussian_static.copy(), gaussian_static.copy(), gaussian_static.copy()]\n",
    "for i in range(1,len(static_gaussian_rep)+1):\n",
    "    static_gaussian_rep[1][4] = +(i*i)/10\n",
    "    static_gaussian_rep[1][6] = +(i*i)/10\n",
    "    static_gaussian_rep[2][4] = -(i*i)/10\n",
    "    static_gaussian_rep[2][6] = -(i*i)/10\n",
    "    static_gaussian_rep[3][4] = +(i*i)/10\n",
    "    static_gaussian_rep[3][6] = -(i*i)/10\n",
    "    static_gaussian_rep[4][4] = -(i*i)/10\n",
    "    static_gaussian_rep[4][6] = +(i*i)/10\n",
    "    print(static_gaussian_rep)\n",
    "    z_list, image, z_sum = picture_worker.generate_image(static_gaussian_rep[:5], colorschemes, useCImplementation=True)\n",
    "    images_overlapping_side.append(image)\n",
    "    z_sums_side.append(z_sum)\n",
    "    gaussians_side.append([i.copy() for i in static_gaussian_rep[:5]])"
   ]
  },
  {
   "cell_type": "code",
   "execution_count": null,
   "metadata": {},
   "outputs": [
    {
     "name": "stdout",
     "output_type": "stream",
     "text": [
      "[[-10, 10, -10, 10, 0, 1, 0, 1, 200], [-10, 10, -10, 10, 0.4, 5, 0.4, 5, 200], [-10, 10, -10, 10, -0.4, 5, -0.4, 5, 200], [-10, 10, -10, 10, 0.4, 5, -0.4, 5, 200], [-10, 10, -10, 10, -0.4, 5, 0.4, 5, 200]]\n",
      "[[-10, 10, -10, 10, 0, 4, 0, 4, 200], [-10, 10, -10, 10, 0.4, 5, 0.4, 5, 200], [-10, 10, -10, 10, -0.4, 5, -0.4, 5, 200], [-10, 10, -10, 10, 0.4, 5, -0.4, 5, 200], [-10, 10, -10, 10, -0.4, 5, 0.4, 5, 200]]\n",
      "[[-10, 10, -10, 10, 0, 6, 0, 6, 200], [-10, 10, -10, 10, 0.4, 5, 0.4, 5, 200], [-10, 10, -10, 10, -0.4, 5, -0.4, 5, 200], [-10, 10, -10, 10, 0.4, 5, -0.4, 5, 200], [-10, 10, -10, 10, -0.4, 5, 0.4, 5, 200]]\n",
      "[[-10, 10, -10, 10, 0, 8, 0, 8, 200], [-10, 10, -10, 10, 0.4, 5, 0.4, 5, 200], [-10, 10, -10, 10, -0.4, 5, -0.4, 5, 200], [-10, 10, -10, 10, 0.4, 5, -0.4, 5, 200], [-10, 10, -10, 10, -0.4, 5, 0.4, 5, 200]]\n",
      "[[-10, 10, -10, 10, 0, 10, 0, 10, 200], [-10, 10, -10, 10, 0.4, 5, 0.4, 5, 200], [-10, 10, -10, 10, -0.4, 5, -0.4, 5, 200], [-10, 10, -10, 10, 0.4, 5, -0.4, 5, 200], [-10, 10, -10, 10, -0.4, 5, 0.4, 5, 200]]\n"
     ]
    }
   ],
   "source": [
    "static_gaussian_rep = [gaussian_static.copy(), gaussian_static.copy(), gaussian_static.copy(), gaussian_static.copy(), gaussian_static.copy()]\n",
    "for i in range(1,len(static_gaussian_rep)+1):\n",
    "    if i == 1:\n",
    "        static_gaussian_rep[0][5] = 1 \n",
    "        static_gaussian_rep[0][7] = 1\n",
    "    else:\n",
    "        static_gaussian_rep[0][5] = i * 2\n",
    "        static_gaussian_rep[0][7] = i * 2\n",
    "    static_gaussian_rep[1][4] = +0.4\n",
    "    static_gaussian_rep[1][6] = +0.4\n",
    "    static_gaussian_rep[2][4] = -0.4\n",
    "    static_gaussian_rep[2][6] = -0.4\n",
    "    static_gaussian_rep[3][4] = +0.4\n",
    "    static_gaussian_rep[3][6] = -0.4\n",
    "    static_gaussian_rep[4][4] = -0.4\n",
    "    static_gaussian_rep[4][6] = +0.4\n",
    "    \n",
    "    print(static_gaussian_rep)\n",
    "    z_list, image, z_sum = picture_worker.generate_image(static_gaussian_rep[:5], colorschemes, useCImplementation=True)\n",
    "    images_overlapping_side.append(image)\n",
    "    z_sums_side.append(z_sum)\n",
    "    gaussians_side.append([i.copy() for i in static_gaussian_rep[:5]])"
   ]
  },
  {
   "cell_type": "code",
   "execution_count": null,
   "metadata": {},
   "outputs": [
    {
     "name": "stdout",
     "output_type": "stream",
     "text": [
      "[[-10, 10, -10, 10, 0, 1, 0, 1, 200], [-10, 10, -10, 10, 0.9, 5, 0.9, 5, 200], [-10, 10, -10, 10, -0.9, 5, -0.9, 5, 200], [-10, 10, -10, 10, 0.9, 5, -0.9, 5, 200], [-10, 10, -10, 10, -0.9, 5, 0.9, 5, 200]]\n",
      "[[-10, 10, -10, 10, 0, 4, 0, 4, 200], [-10, 10, -10, 10, 0.9, 5, 0.9, 5, 200], [-10, 10, -10, 10, -0.9, 5, -0.9, 5, 200], [-10, 10, -10, 10, 0.9, 5, -0.9, 5, 200], [-10, 10, -10, 10, -0.9, 5, 0.9, 5, 200]]\n",
      "[[-10, 10, -10, 10, 0, 6, 0, 6, 200], [-10, 10, -10, 10, 0.9, 5, 0.9, 5, 200], [-10, 10, -10, 10, -0.9, 5, -0.9, 5, 200], [-10, 10, -10, 10, 0.9, 5, -0.9, 5, 200], [-10, 10, -10, 10, -0.9, 5, 0.9, 5, 200]]\n",
      "[[-10, 10, -10, 10, 0, 8, 0, 8, 200], [-10, 10, -10, 10, 0.9, 5, 0.9, 5, 200], [-10, 10, -10, 10, -0.9, 5, -0.9, 5, 200], [-10, 10, -10, 10, 0.9, 5, -0.9, 5, 200], [-10, 10, -10, 10, -0.9, 5, 0.9, 5, 200]]\n",
      "[[-10, 10, -10, 10, 0, 10, 0, 10, 200], [-10, 10, -10, 10, 0.9, 5, 0.9, 5, 200], [-10, 10, -10, 10, -0.9, 5, -0.9, 5, 200], [-10, 10, -10, 10, 0.9, 5, -0.9, 5, 200], [-10, 10, -10, 10, -0.9, 5, 0.9, 5, 200]]\n"
     ]
    }
   ],
   "source": [
    "static_gaussian_rep = [gaussian_static.copy(), gaussian_static.copy(), gaussian_static.copy(), gaussian_static.copy(), gaussian_static.copy()]\n",
    "for i in range(1,len(static_gaussian_rep)+1):\n",
    "    if i == 1:\n",
    "        static_gaussian_rep[0][5] = 1 \n",
    "        static_gaussian_rep[0][7] = 1\n",
    "    else:\n",
    "        static_gaussian_rep[0][5] = i * 2\n",
    "        static_gaussian_rep[0][7] = i * 2\n",
    "    static_gaussian_rep[1][4] = +0.9\n",
    "    static_gaussian_rep[1][6] = +0.9\n",
    "    static_gaussian_rep[2][4] = -0.9\n",
    "    static_gaussian_rep[2][6] = -0.9\n",
    "    static_gaussian_rep[3][4] = +0.9\n",
    "    static_gaussian_rep[3][6] = -0.9\n",
    "    static_gaussian_rep[4][4] = -0.9\n",
    "    static_gaussian_rep[4][6] = +0.9\n",
    "    \n",
    "    print(static_gaussian_rep)\n",
    "    z_list, image, z_sum = picture_worker.generate_image(static_gaussian_rep[:5], colorschemes, useCImplementation=True)\n",
    "    images_overlapping_side.append(image)\n",
    "    z_sums_side.append(z_sum)\n",
    "    gaussians_side.append([i.copy() for i in static_gaussian_rep[:5]])"
   ]
  },
  {
   "cell_type": "code",
   "execution_count": null,
   "metadata": {},
   "outputs": [
    {
     "name": "stdout",
     "output_type": "stream",
     "text": [
      "[[-10, 10, -10, 10, 0, 1, 0, 1, 200], [-10, 10, -10, 10, 2.5, 5, 2.5, 5, 200], [-10, 10, -10, 10, -2.5, 5, -2.5, 5, 200], [-10, 10, -10, 10, 2.5, 5, -2.5, 5, 200], [-10, 10, -10, 10, -2.5, 5, 2.5, 5, 200]]\n",
      "[[-10, 10, -10, 10, 0, 6, 0, 6, 200], [-10, 10, -10, 10, 2.5, 5, 2.5, 5, 200], [-10, 10, -10, 10, -2.5, 5, -2.5, 5, 200], [-10, 10, -10, 10, 2.5, 5, -2.5, 5, 200], [-10, 10, -10, 10, -2.5, 5, 2.5, 5, 200]]\n",
      "[[-10, 10, -10, 10, 0, 9, 0, 9, 200], [-10, 10, -10, 10, 2.5, 5, 2.5, 5, 200], [-10, 10, -10, 10, -2.5, 5, -2.5, 5, 200], [-10, 10, -10, 10, 2.5, 5, -2.5, 5, 200], [-10, 10, -10, 10, -2.5, 5, 2.5, 5, 200]]\n",
      "[[-10, 10, -10, 10, 0, 12, 0, 12, 200], [-10, 10, -10, 10, 2.5, 5, 2.5, 5, 200], [-10, 10, -10, 10, -2.5, 5, -2.5, 5, 200], [-10, 10, -10, 10, 2.5, 5, -2.5, 5, 200], [-10, 10, -10, 10, -2.5, 5, 2.5, 5, 200]]\n"
     ]
    }
   ],
   "source": [
    "static_gaussian_rep = [gaussian_static.copy(), gaussian_static.copy(), gaussian_static.copy(), gaussian_static.copy(), gaussian_static.copy()]\n",
    "for i in range(1,len(static_gaussian_rep)+1):\n",
    "    if i == 1:\n",
    "        static_gaussian_rep[0][5] = 1 \n",
    "        static_gaussian_rep[0][7] = 1\n",
    "    else:\n",
    "        static_gaussian_rep[0][5] = i * 3 \n",
    "        static_gaussian_rep[0][7] = i * 3\n",
    "    static_gaussian_rep[1][4] = +2.5\n",
    "    static_gaussian_rep[1][6] = +2.5\n",
    "    static_gaussian_rep[2][4] = -2.5\n",
    "    static_gaussian_rep[2][6] = -2.5\n",
    "    static_gaussian_rep[3][4] = +2.5\n",
    "    static_gaussian_rep[3][6] = -2.5\n",
    "    static_gaussian_rep[4][4] = -2.5\n",
    "    static_gaussian_rep[4][6] = +2.5\n",
    "    \n",
    "    print(static_gaussian_rep)\n",
    "    z_list, image, z_sum = picture_worker.generate_image(static_gaussian_rep[:5], colorschemes, useCImplementation=True)\n",
    "    images_overlapping_side.append(image)\n",
    "    z_sums_side.append(z_sum)\n",
    "    gaussians_side.append([i.copy() for i in static_gaussian_rep[:5]])"
   ]
  },
  {
   "cell_type": "markdown",
   "metadata": {},
   "source": [
    "Reihe: Erklärung <br>\n",
    "1: Beispielreihe <br>\n",
    "2/3/4/5: Es wird immer ein Gaussian hinzugefügt, der sich dann etwas mehr rechts befindet. Ab wann sind die Gaussians zu unterscheiden?\n"
   ]
  },
  {
   "cell_type": "code",
   "execution_count": null,
   "metadata": {
    "scrolled": false
   },
   "outputs": [],
   "source": [
    "picture_worker.plot_images(images_overlapping, gaussians, z_sums, color_codes)"
   ]
  },
  {
   "cell_type": "markdown",
   "metadata": {},
   "source": [
    "Reihe: Erklärung <br>\n",
    "1: Beispielreihe <br>\n",
    "2: 4 Gaussians bewegen sich voneinander weg. Jeder Gaussian in eine Richtung. Interessant sind hier die Stellen an denen sich die Gaussians überlappen. Es wirkt ein wenig wie der Farbkreis <br>\n",
    "3: Selbes Scenario wie in der zweiten Reihe, nur diesmal mit einem weiteren Gaussian in der Mitte. Dieser wird nicht verändert Wann taucht er auf? Wie beeinflusst er die anderen Gaussians? <br>\n",
    "4/5/6: Selbes Scenario wie in der zweiten Reihe, nur diesmal mit einem weiteren Gaussian in der Mitte. Dieser wird in seiner Varianz verändert wobei die X- und Y-Varianz gleich verändert wird. Wann taucht er auf? Wie beeinflusst er die anderen Gaussians? <br>"
   ]
  },
  {
   "cell_type": "code",
   "execution_count": null,
   "metadata": {
    "scrolled": false
   },
   "outputs": [],
   "source": [
    "picture_worker.plot_images(images_overlapping_side, gaussians_side, z_sums_side, color_codes)"
   ]
  },
  {
   "cell_type": "code",
   "execution_count": null,
   "metadata": {},
   "outputs": [],
   "source": []
  }
 ],
 "metadata": {
  "kernelspec": {
   "display_name": "Python 3",
   "language": "python",
   "name": "python3"
  },
  "language_info": {
   "codemirror_mode": {
    "name": "ipython",
    "version": 3
   },
   "file_extension": ".py",
   "mimetype": "text/x-python",
   "name": "python",
   "nbconvert_exporter": "python",
   "pygments_lexer": "ipython3",
   "version": "3.6.7"
  }
 },
 "nbformat": 4,
 "nbformat_minor": 2
}
