{
 "cells": [
  {
   "cell_type": "code",
   "execution_count": 1,
   "metadata": {},
   "outputs": [],
   "source": [
    "from matplotlib import pyplot as plt\n",
    "from numpy.random import randn\n",
    "import random\n",
    "%matplotlib inline\n",
    "import numpy as np\n",
    "from skimage import color\n",
    "\n",
    "import sys\n",
    "sys.path.append(\"..\")\n",
    "from src import hierarchic_blending_operator\n",
    "from src import color_converter\n",
    "from src import color_operations\n",
    "from src import color_schemes\n",
    "from src import picture_worker\n",
    "from src import helper"
   ]
  },
  {
   "cell_type": "markdown",
   "metadata": {},
   "source": [
    "Number of points"
   ]
  },
  {
   "cell_type": "code",
   "execution_count": 2,
   "metadata": {},
   "outputs": [],
   "source": [
    "size = 400"
   ]
  },
  {
   "cell_type": "markdown",
   "metadata": {},
   "source": [
    "Number of Gaussians to use"
   ]
  },
  {
   "cell_type": "code",
   "execution_count": 3,
   "metadata": {},
   "outputs": [],
   "source": [
    "number_of_gaussians = 5"
   ]
  },
  {
   "cell_type": "markdown",
   "metadata": {},
   "source": [
    "Interval to use"
   ]
  },
  {
   "cell_type": "code",
   "execution_count": 4,
   "metadata": {},
   "outputs": [],
   "source": [
    "x_min, x_max = -10, 10\n",
    "y_min, y_max = -10, 10\n",
    "variance_min, variance_max = 2, 30"
   ]
  },
  {
   "cell_type": "markdown",
   "metadata": {},
   "source": [
    "Color-Maps to use"
   ]
  },
  {
   "cell_type": "markdown",
   "metadata": {},
   "source": [
    "Matplotlib"
   ]
  },
  {
   "cell_type": "code",
   "execution_count": 5,
   "metadata": {},
   "outputs": [],
   "source": [
    "color_maps = [color_schemes.random_matplotlib_colorschemes() for i in range(number_of_gaussians)][:number_of_gaussians]"
   ]
  },
  {
   "cell_type": "code",
   "execution_count": 6,
   "metadata": {
    "scrolled": true
   },
   "outputs": [
    {
     "data": {
      "text/plain": [
       "['ocean', 'cubehelix_r', 'binary', 'Oranges', 'YlGn_r']"
      ]
     },
     "execution_count": 6,
     "metadata": {},
     "output_type": "execute_result"
    }
   ],
   "source": [
    "color_maps"
   ]
  },
  {
   "cell_type": "markdown",
   "metadata": {},
   "source": [
    "Monochrom"
   ]
  },
  {
   "cell_type": "code",
   "execution_count": 7,
   "metadata": {},
   "outputs": [],
   "source": [
    "monochromatic_color_maps = [[1,0,0,1], [0,1,0,1], [0,0,1,1], [1,1,0,1], [0,1,1,1]]"
   ]
  },
  {
   "cell_type": "code",
   "execution_count": 8,
   "metadata": {},
   "outputs": [],
   "source": [
    "def generate_gaussian(colorscheme, verbose=False):\n",
    "    X, Y, Z = helper.get_random_gaussian(x_min,x_max,y_min,y_max,variance_min, variance_max,size,0.6)\n",
    "    img, Z_alpha = picture_worker.get_colorgrid(Z,color_schemes.matplotlib_colorschemes,10,colorscheme=colorscheme, verbose=verbose)\n",
    "    return img, Z"
   ]
  },
  {
   "cell_type": "code",
   "execution_count": 9,
   "metadata": {},
   "outputs": [],
   "source": [
    "def generate_monochromatic_gaussian(Z, startcolor, verbose=False):\n",
    "    img, Z_alpha = picture_worker.get_colorgrid(Z,color_schemes.create_monochromatic_colorscheme,10,False,startcolor=startcolor, verbose=verbose)\n",
    "    return img"
   ]
  },
  {
   "cell_type": "code",
   "execution_count": 10,
   "metadata": {},
   "outputs": [],
   "source": [
    "img_list_matplotlib = []\n",
    "z_list = []\n",
    "for i in color_maps:\n",
    "    img, z = generate_gaussian(i,verbose=  False)\n",
    "    img_list_matplotlib.append(img)\n",
    "    z_list.append(z)"
   ]
  },
  {
   "cell_type": "code",
   "execution_count": 11,
   "metadata": {},
   "outputs": [],
   "source": [
    "img_list_monochromatic = []\n",
    "for z,i in zip(z_list, monochromatic_color_maps):\n",
    "    img = generate_monochromatic_gaussian(z, i, verbose=  False)\n",
    "    img_list_monochromatic.append(img)"
   ]
  },
  {
   "cell_type": "code",
   "execution_count": 12,
   "metadata": {},
   "outputs": [],
   "source": [
    "z_sum = z_list[0].copy()\n",
    "for i in z_list[1:]:\n",
    "    z_sum += i"
   ]
  },
  {
   "cell_type": "code",
   "execution_count": null,
   "metadata": {},
   "outputs": [],
   "source": []
  }
 ],
 "metadata": {
  "kernelspec": {
   "display_name": "Python 3",
   "language": "python",
   "name": "python3"
  },
  "language_info": {
   "codemirror_mode": {
    "name": "ipython",
    "version": 3
   },
   "file_extension": ".py",
   "mimetype": "text/x-python",
   "name": "python",
   "nbconvert_exporter": "python",
   "pygments_lexer": "ipython3",
   "version": "3.6.7"
  }
 },
 "nbformat": 4,
 "nbformat_minor": 2
}
