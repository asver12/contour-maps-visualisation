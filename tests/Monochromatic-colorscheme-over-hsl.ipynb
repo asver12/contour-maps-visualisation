{
 "cells": [
  {
   "cell_type": "markdown",
   "metadata": {},
   "source": [
    "# Color-scheme over lightness and saturation"
   ]
  },
  {
   "cell_type": "code",
   "execution_count": 1,
   "metadata": {},
   "outputs": [],
   "source": [
    "from matplotlib import pyplot as plt\n",
    "from numpy.random import randn\n",
    "%matplotlib inline\n",
    "import numpy as np\n",
    "from skimage import color\n",
    "\n",
    "import sys\n",
    "sys.path.append(\"..\")\n",
    "from src import hierarchic_blending_operator\n",
    "from src import color_converter\n",
    "from src import color_operations\n",
    "from src import color_schemes\n",
    "from src import picture_worker\n",
    "from src import helper"
   ]
  },
  {
   "cell_type": "code",
   "execution_count": 2,
   "metadata": {},
   "outputs": [],
   "source": [
    "z_min, z_max = 1,10\n",
    "levels = np.linspace(z_min,z_max,10)"
   ]
  },
  {
   "cell_type": "markdown",
   "metadata": {},
   "source": [
    "## Monochromatic start colors"
   ]
  },
  {
   "cell_type": "code",
   "execution_count": 3,
   "metadata": {},
   "outputs": [],
   "source": [
    "first_start_color = [1.,0.,0.,1.]\n",
    "second_start_color = [0.,1.,0.,1.]\n",
    "third_start_color = [0.,0.,1.,1.]"
   ]
  },
  {
   "cell_type": "code",
   "execution_count": 4,
   "metadata": {
    "scrolled": true
   },
   "outputs": [
    {
     "name": "stdout",
     "output_type": "stream",
     "text": [
      "[[[0.33333333 1.         1.        ]]]\n",
      "[[0.3333333333333333, 0.0, 1.0], [0.3333333333333333, 0.1, 0.9], [0.3333333333333333, 0.2, 0.8], [0.3333333333333333, 0.30000000000000004, 0.7], [0.3333333333333333, 0.4, 0.6], [0.3333333333333333, 0.5, 0.5], [0.3333333333333333, 0.6000000000000001, 0.3999999999999999], [0.3333333333333333, 0.7000000000000001, 0.29999999999999993], [0.3333333333333333, 0.8, 0.19999999999999996], [0.3333333333333333, 0.9, 0.09999999999999998], [0.3333333333333333, 1.0, 0.0]]\n",
      "[array([1., 1., 1., 1.]), array([0.81, 0.9 , 0.81, 1.  ]), array([0.64, 0.8 , 0.64, 1.  ]), array([0.49, 0.7 , 0.49, 1.  ]), array([0.36, 0.6 , 0.36, 1.  ]), array([0.25, 0.5 , 0.25, 1.  ]), array([0.16, 0.4 , 0.16, 1.  ]), array([0.09, 0.3 , 0.09, 1.  ]), array([0.04, 0.2 , 0.04, 1.  ]), array([0.01, 0.1 , 0.01, 1.  ]), array([0., 0., 0., 1.])]\n"
     ]
    },
    {
     "data": {
      "text/plain": [
       "[array([1., 1., 1., 1.]),\n",
       " array([1., 1., 1., 1.]),\n",
       " array([0.64, 0.8 , 0.64, 1.  ]),\n",
       " array([0.49, 0.7 , 0.49, 1.  ]),\n",
       " array([0.36, 0.6 , 0.36, 1.  ]),\n",
       " array([0.25, 0.5 , 0.25, 1.  ]),\n",
       " array([0.16, 0.4 , 0.16, 1.  ]),\n",
       " array([0.09, 0.3 , 0.09, 1.  ]),\n",
       " array([0.04, 0.2 , 0.04, 1.  ]),\n",
       " array([0.01, 0.1 , 0.01, 1.  ]),\n",
       " array([0., 0., 0., 1.])]"
      ]
     },
     "execution_count": 4,
     "metadata": {},
     "output_type": "execute_result"
    }
   ],
   "source": [
    "color_schemes.create_hsl_colorscheme(second_start_color, levels)"
   ]
  },
  {
   "cell_type": "code",
   "execution_count": 5,
   "metadata": {},
   "outputs": [],
   "source": [
    "x_min, x_max = -10, 10\n",
    "y_min, y_max = -10, 10\n",
    "size = 200\n",
    "\n",
    "mu_x_1 = 0\n",
    "mu_y_1 = 0\n",
    "mu_variance_x_1 = 3\n",
    "mu_variance_y_1 = 15\n",
    "gaussian_1 = (mu_x_1,mu_variance_x_1,mu_y_1,mu_variance_y_1)\n",
    "mu_x_2 = 3\n",
    "mu_y_2 = 3\n",
    "mu_variance_x_2 = 4\n",
    "mu_variance_y_2 = 4\n",
    "gaussian_2 = (mu_x_2,mu_variance_x_2,mu_y_2,mu_variance_y_2)\n",
    "mu_x_3 = -2\n",
    "mu_y_3 = -1\n",
    "mu_variance_x_3 = 7\n",
    "mu_variance_y_3 = 7\n",
    "gaussian_3 = (mu_x_3,mu_variance_x_3,mu_y_3,mu_variance_y_3)"
   ]
  },
  {
   "cell_type": "code",
   "execution_count": 6,
   "metadata": {},
   "outputs": [],
   "source": [
    "X, Y, Z = helper.get_gaussian(x_min,x_max,y_min,y_max,*gaussian_1,size)\n",
    "X_1, Y_1, Z_1 = helper.get_gaussian(x_min,x_max,y_min,y_max,*gaussian_2,size)\n",
    "X_2, Y_2, Z_2 = helper.get_gaussian(x_min,x_max,y_min,y_max,*gaussian_3,size)"
   ]
  },
  {
   "cell_type": "code",
   "execution_count": 7,
   "metadata": {},
   "outputs": [
    {
     "name": "stdout",
     "output_type": "stream",
     "text": [
      "[[[0. 1. 1.]]]\n",
      "[[0.0, 0.0, 1.0], [0.0, 0.1, 0.9], [0.0, 0.2, 0.8], [0.0, 0.30000000000000004, 0.7], [0.0, 0.4, 0.6], [0.0, 0.5, 0.5], [0.0, 0.6000000000000001, 0.3999999999999999], [0.0, 0.7000000000000001, 0.29999999999999993], [0.0, 0.8, 0.19999999999999996], [0.0, 0.9, 0.09999999999999998], [0.0, 1.0, 0.0]]\n",
      "[array([1., 1., 1., 1.]), array([0.9 , 0.81, 0.81, 1.  ]), array([0.8 , 0.64, 0.64, 1.  ]), array([0.7 , 0.49, 0.49, 1.  ]), array([0.6 , 0.36, 0.36, 1.  ]), array([0.5 , 0.25, 0.25, 1.  ]), array([0.4 , 0.16, 0.16, 1.  ]), array([0.3 , 0.09, 0.09, 1.  ]), array([0.2 , 0.04, 0.04, 1.  ]), array([0.1 , 0.01, 0.01, 1.  ]), array([0., 0., 0., 1.])]\n"
     ]
    }
   ],
   "source": [
    "Z_new, Z_alpha = picture_worker.get_colorgrid(Z,color_schemes.create_hsl_colorscheme,10,False,startcolor=first_start_color, lvl_white = 1)"
   ]
  },
  {
   "cell_type": "code",
   "execution_count": 8,
   "metadata": {},
   "outputs": [
    {
     "name": "stdout",
     "output_type": "stream",
     "text": [
      "[[[0.33333333 1.         1.        ]]]\n",
      "[[0.3333333333333333, 0.0, 1.0], [0.3333333333333333, 0.1, 0.9], [0.3333333333333333, 0.2, 0.8], [0.3333333333333333, 0.30000000000000004, 0.7], [0.3333333333333333, 0.4, 0.6], [0.3333333333333333, 0.5, 0.5], [0.3333333333333333, 0.6000000000000001, 0.3999999999999999], [0.3333333333333333, 0.7000000000000001, 0.29999999999999993], [0.3333333333333333, 0.8, 0.19999999999999996], [0.3333333333333333, 0.9, 0.09999999999999998], [0.3333333333333333, 1.0, 0.0]]\n",
      "[array([1., 1., 1., 1.]), array([0.81, 0.9 , 0.81, 1.  ]), array([0.64, 0.8 , 0.64, 1.  ]), array([0.49, 0.7 , 0.49, 1.  ]), array([0.36, 0.6 , 0.36, 1.  ]), array([0.25, 0.5 , 0.25, 1.  ]), array([0.16, 0.4 , 0.16, 1.  ]), array([0.09, 0.3 , 0.09, 1.  ]), array([0.04, 0.2 , 0.04, 1.  ]), array([0.01, 0.1 , 0.01, 1.  ]), array([0., 0., 0., 1.])]\n"
     ]
    }
   ],
   "source": [
    "Z_new_1, Z_alpha_1 = picture_worker.get_colorgrid(Z_1,color_schemes.create_hsl_colorscheme,10,False,startcolor=second_start_color)\n"
   ]
  },
  {
   "cell_type": "code",
   "execution_count": 9,
   "metadata": {},
   "outputs": [
    {
     "name": "stdout",
     "output_type": "stream",
     "text": [
      "[[[0.66666667 1.         1.        ]]]\n",
      "[[0.6666666666666666, 0.0, 1.0], [0.6666666666666666, 0.1, 0.9], [0.6666666666666666, 0.2, 0.8], [0.6666666666666666, 0.30000000000000004, 0.7], [0.6666666666666666, 0.4, 0.6], [0.6666666666666666, 0.5, 0.5], [0.6666666666666666, 0.6000000000000001, 0.3999999999999999], [0.6666666666666666, 0.7000000000000001, 0.29999999999999993], [0.6666666666666666, 0.8, 0.19999999999999996], [0.6666666666666666, 0.9, 0.09999999999999998], [0.6666666666666666, 1.0, 0.0]]\n",
      "[array([1., 1., 1., 1.]), array([0.81, 0.81, 0.9 , 1.  ]), array([0.64, 0.64, 0.8 , 1.  ]), array([0.49, 0.49, 0.7 , 1.  ]), array([0.36, 0.36, 0.6 , 1.  ]), array([0.25, 0.25, 0.5 , 1.  ]), array([0.16, 0.16, 0.4 , 1.  ]), array([0.09, 0.09, 0.3 , 1.  ]), array([0.04, 0.04, 0.2 , 1.  ]), array([0.01, 0.01, 0.1 , 1.  ]), array([0., 0., 0., 1.])]\n"
     ]
    }
   ],
   "source": [
    "Z_new_2, Z_alpha_2 = picture_worker.get_colorgrid(Z_2,color_schemes.create_hsl_colorscheme,10,False,startcolor=third_start_color)"
   ]
  },
  {
   "cell_type": "code",
   "execution_count": 10,
   "metadata": {},
   "outputs": [],
   "source": [
    "mixed, alpha_new = picture_worker.combine_two_images_hierarchic(hierarchic_blending_operator.porter_duff_source_over, Z_new, Z, Z_new_1, Z_1)"
   ]
  },
  {
   "cell_type": "code",
   "execution_count": 11,
   "metadata": {},
   "outputs": [],
   "source": [
    "mixed, _ = picture_worker.combine_two_images_hierarchic(hierarchic_blending_operator.porter_duff_source_over, mixed,alpha_new,Z_new_2,Z_2)"
   ]
  },
  {
   "cell_type": "code",
   "execution_count": 12,
   "metadata": {},
   "outputs": [
    {
     "data": {
      "image/png": "[encoded data removed]",
      "text/plain": [
       "<Figure size 432x288 with 4 Axes>"
      ]
     },
     "metadata": {
      "needs_background": "light"
     },
     "output_type": "display_data"
    }
   ],
   "source": [
    "fig, (ax_0, ax_1, ax_2, ax_3) = plt.subplots(1,4)\n",
    "\n",
    "# displays an image\n",
    "ax_0.imshow(Z_new)\n",
    "ax_0.axis(\"off\")\n",
    "ax_1.imshow(Z_new_1)\n",
    "ax_1.axis(\"off\")\n",
    "ax_2.imshow(Z_new_2)\n",
    "ax_2.axis(\"off\")\n",
    "ax_3.imshow(mixed)\n",
    "ax_3.axis(\"off\")\n",
    "plt.subplots_adjust(0, 0, 1, 1)\n",
    "plt.show()"
   ]
  }
 ],
 "metadata": {
  "kernelspec": {
   "display_name": "Python 3",
   "language": "python",
   "name": "python3"
  },
  "language_info": {
   "codemirror_mode": {
    "name": "ipython",
    "version": 3
   },
   "file_extension": ".py",
   "mimetype": "text/x-python",
   "name": "python",
   "nbconvert_exporter": "python",
   "pygments_lexer": "ipython3",
   "version": "3.6.7"
  }
 },
 "nbformat": 4,
 "nbformat_minor": 2
}
