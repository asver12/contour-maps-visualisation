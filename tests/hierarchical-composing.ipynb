{
 "cells": [
  {
   "cell_type": "markdown",
   "metadata": {},
   "source": [
    "## Different hierarchical composing ideas"
   ]
  },
  {
   "cell_type": "code",
   "execution_count": 1,
   "metadata": {},
   "outputs": [],
   "source": [
    "from matplotlib import pyplot as plt\n",
    "from numpy.random import randn\n",
    "%matplotlib inline\n",
    "import numpy as np\n",
    "from skimage import color\n",
    "\n",
    "import sys\n",
    "sys.path.append(\"..\")\n",
    "from src import color_blending_operator\n",
    "from src import color_converter\n",
    "from src import color_operations\n",
    "from src import color_schemes\n",
    "from src import picture_worker\n",
    "from src import helper\n",
    "\n",
    "from src import hierarchic_blending_operator"
   ]
  },
  {
   "cell_type": "code",
   "execution_count": 2,
   "metadata": {},
   "outputs": [],
   "source": [
    "x_min, x_max = -10, 10\n",
    "y_min, y_max = -10, 10\n",
    "size = 10\n",
    "\n",
    "mu_x_1 = 0\n",
    "mu_y_1 = 0\n",
    "mu_variance_x_1 = 3\n",
    "mu_variance_y_1 = 15\n",
    "gaussian_1 = ([mu_x_1,mu_y_1],[[mu_variance_x_1,0],[0,mu_variance_y_1]])\n",
    "mu_x_2 = 3\n",
    "mu_y_2 = 3\n",
    "mu_variance_x_2 = 4\n",
    "mu_variance_y_2 = 4\n",
    "gaussian_2 = ([mu_x_2,mu_y_2],[[mu_variance_x_2,0.],[0.,mu_variance_y_2]])\n",
    "mu_x_3 = -2\n",
    "mu_y_3 = -1\n",
    "mu_variance_x_3 = 7\n",
    "mu_variance_y_3 = 7\n",
    "gaussian_3 = ([mu_x_3,mu_y_3],[[mu_variance_x_3,0.],[0.,mu_variance_y_3]])"
   ]
  },
  {
   "cell_type": "code",
   "execution_count": 3,
   "metadata": {},
   "outputs": [],
   "source": [
    "X, Y, Z = helper.get_gaussian(x_min,x_max,y_min,y_max,*gaussian_1,size)\n",
    "X_1, Y_1, Z_1 = helper.get_gaussian(x_min,x_max,y_min,y_max,*gaussian_2,size)\n",
    "X_2, Y_2, Z_2 = helper.get_gaussian(x_min,x_max,y_min,y_max,*gaussian_3,size)\n",
    "Z_color, Z_alpha = picture_worker.get_colorgrid(Z,color_schemes.matplotlib_colorschemes,num_of_levels=10,colorscheme_name=\"PuBu\")\n",
    "Z_color_1, Z_alpha_1 = picture_worker.get_colorgrid(Z_1,color_schemes.matplotlib_colorschemes,num_of_levels=10,colorscheme_name=\"OrRd\")\n",
    "Z_color_2, Z_alpha_2 = picture_worker.get_colorgrid(Z_2,color_schemes.matplotlib_colorschemes,num_of_levels=10,colorscheme_name=\"RdPu\")"
   ]
  },
  {
   "cell_type": "code",
   "execution_count": 5,
   "metadata": {},
   "outputs": [],
   "source": [
    "mixed_rgb = picture_worker.combine_two_images(color_blending_operator.porter_duff_source_over, Z_color, Z_color_1,alpha=0.5)"
   ]
  },
  {
   "cell_type": "code",
   "execution_count": 6,
   "metadata": {},
   "outputs": [],
   "source": [
    "mixed_rgb_max,z_new = picture_worker.combine_two_images_hierarchic(hierarchic_blending_operator.select_max,Z_color,Z,Z_color_1,Z_1)"
   ]
  },
  {
   "cell_type": "code",
   "execution_count": 7,
   "metadata": {},
   "outputs": [],
   "source": [
    "mixed_rgb_weighted,z_new = picture_worker.combine_two_images_hierarchic(hierarchic_blending_operator.porter_duff_source_over,Z_color_1,Z_1,Z_color,Z)"
   ]
  },
  {
   "cell_type": "code",
   "execution_count": 8,
   "metadata": {},
   "outputs": [],
   "source": [
    "mixed_rgb_quad_weighted,z_new = picture_worker.combine_two_images_hierarchic(hierarchic_blending_operator.porter_duff_source_over,Z_color_1,Z_1,Z_color,Z)"
   ]
  },
  {
   "cell_type": "code",
   "execution_count": 9,
   "metadata": {},
   "outputs": [
    {
     "data": {
      "image/png": "[encoded data removed]",
      "text/plain": [
       "<Figure size 432x288 with 4 Axes>"
      ]
     },
     "metadata": {
      "needs_background": "light"
     },
     "output_type": "display_data"
    }
   ],
   "source": [
    "#displays an image\n",
    "fig, (ax_0, ax_1, ax_2, ax_3) = plt.subplots(1,4)\n",
    "ax_0.imshow(mixed_rgb)\n",
    "ax_0.axis(\"off\")\n",
    "ax_1.imshow(mixed_rgb_max)\n",
    "ax_1.axis(\"off\")\n",
    "ax_2.imshow(mixed_rgb_weighted)\n",
    "ax_2.axis(\"off\")\n",
    "ax_3.imshow(mixed_rgb_quad_weighted)\n",
    "ax_3.axis(\"off\")\n",
    "plt.subplots_adjust(0, 0, 1, 1)\n",
    "plt.show()"
   ]
  },
  {
   "cell_type": "code",
   "execution_count": 10,
   "metadata": {
    "scrolled": true
   },
   "outputs": [
    {
     "data": {
      "text/plain": [
       "<matplotlib.image.AxesImage at 0x7f618b900160>"
      ]
     },
     "execution_count": 10,
     "metadata": {},
     "output_type": "execute_result"
    },
    {
     "data": {
      "image/png": "[encoded data removed]",
      "text/plain": [
       "<Figure size 432x288 with 1 Axes>"
      ]
     },
     "metadata": {
      "needs_background": "light"
     },
     "output_type": "display_data"
    }
   ],
   "source": [
    "plt.imshow(mixed_rgb_weighted)"
   ]
  },
  {
   "cell_type": "code",
   "execution_count": null,
   "metadata": {},
   "outputs": [],
   "source": []
  }
 ],
 "metadata": {
  "kernelspec": {
   "display_name": "Python 3",
   "language": "python",
   "name": "python3"
  },
  "language_info": {
   "codemirror_mode": {
    "name": "ipython",
    "version": 3
   },
   "file_extension": ".py",
   "mimetype": "text/x-python",
   "name": "python",
   "nbconvert_exporter": "python",
   "pygments_lexer": "ipython3",
   "version": "3.6.7"
  }
 },
 "nbformat": 4,
 "nbformat_minor": 2
}
