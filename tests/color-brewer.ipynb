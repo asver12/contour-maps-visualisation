{
 "cells": [
  {
   "cell_type": "code",
   "execution_count": 1,
   "metadata": {},
   "outputs": [],
   "source": [
    "import numpy as np\n",
    "import matplotlib.pyplot as plt\n",
    "from skimage import color\n",
    "import sys\n",
    "sys.path.append(\"..\")\n",
    "from src import color_converter"
   ]
  },
  {
   "cell_type": "code",
   "execution_count": 2,
   "metadata": {},
   "outputs": [],
   "source": [
    "blue_color_scheme = [\"#f7fbff\", \"#eff3ff\", \"#deebf7\", \"#c6dbef\", \"#bdd7e7\", \"#9ecae1\", \"#6baed6\", \"#4292c6\", \"#3182bd\", \"#2171b5\", \"#08519c\", \"#084594\", \"#08306b\"]\n",
    "green_color_scheme = ['#f7fcf5', '#edf8e9', '#e5f5e0','#c7e9c0', '#bae4b3', '#a1d99b','#74c476','#41ab5d','#31a354' ,'#238b45','#006d2c', '#005a32','#00441b']\n",
    "orange_color_scheme = ['#fff5eb', '#feedde', '#fee6ce', '#fdd0a2', '#fdbe85', '#fdae6b', '#fd8d3c', '#f16913', '#e6550d', '#d94801', '#a63603', '#8c2d04', '#7f2704']\n",
    "purple_color_scheme = ['#fcfbfd', '#f2f0f7', '#efedf5', '#dadaeb', '#cbc9e2', '#bcbddc', '#9e9ac8', '#807dba', '#756bb1', '#6a51a3', '#54278f', '#4a1486', '#3f007d']\n",
    "red_color_scheme = ['#fff5f0', '#fee5d9', '#fee0d2', '#fcbba1', '#fcae91', '#fc9272', '#fb6a4a', '#ef3b2c', '#de2d26', '#cb181d', '#a50f15', '#99000d', '#67000d']\n",
    "grey_color_scheme = ['#ffffff','#f7f7f7', '#f0f0f0','#d9d9d9','#cccccc','#bdbdbd','#969696','#737373','#636363','#525252','#252525','#000000']"
   ]
  },
  {
   "cell_type": "code",
   "execution_count": 3,
   "metadata": {},
   "outputs": [],
   "source": [
    "rgb_in_hex = grey_color_scheme"
   ]
  },
  {
   "cell_type": "code",
   "execution_count": 4,
   "metadata": {},
   "outputs": [
    {
     "data": {
      "text/plain": [
       "[(255, 255, 255),\n",
       " (247, 247, 247),\n",
       " (240, 240, 240),\n",
       " (217, 217, 217),\n",
       " (204, 204, 204),\n",
       " (189, 189, 189),\n",
       " (150, 150, 150),\n",
       " (115, 115, 115),\n",
       " (99, 99, 99),\n",
       " (82, 82, 82),\n",
       " (37, 37, 37),\n",
       " (0, 0, 0)]"
      ]
     },
     "execution_count": 4,
     "metadata": {},
     "output_type": "execute_result"
    }
   ],
   "source": [
    "rgb = []\n",
    "rgb_255 = []\n",
    "for i in rgb_in_hex:\n",
    "    rgb_255.append(color_converter.hex_to_rgb(i))\n",
    "    rgb.append(color_converter.rgb255_to_rgb01(color_converter.hex_to_rgb(i)))\n",
    "rgb_255"
   ]
  },
  {
   "cell_type": "code",
   "execution_count": 5,
   "metadata": {},
   "outputs": [
    {
     "data": {
      "text/plain": [
       "[[1.0, 1.0, 1.0],\n",
       " [0.9686274509803922, 0.9686274509803922, 0.9686274509803922],\n",
       " [0.9411764705882353, 0.9411764705882353, 0.9411764705882353],\n",
       " [0.8509803921568627, 0.8509803921568627, 0.8509803921568627],\n",
       " [0.8, 0.8, 0.8],\n",
       " [0.7411764705882353, 0.7411764705882353, 0.7411764705882353],\n",
       " [0.5882352941176471, 0.5882352941176471, 0.5882352941176471],\n",
       " [0.45098039215686275, 0.45098039215686275, 0.45098039215686275],\n",
       " [0.38823529411764707, 0.38823529411764707, 0.38823529411764707],\n",
       " [0.3215686274509804, 0.3215686274509804, 0.3215686274509804],\n",
       " [0.1450980392156863, 0.1450980392156863, 0.1450980392156863],\n",
       " [0.0, 0.0, 0.0]]"
      ]
     },
     "execution_count": 5,
     "metadata": {},
     "output_type": "execute_result"
    }
   ],
   "source": [
    "rgb"
   ]
  },
  {
   "cell_type": "code",
   "execution_count": 6,
   "metadata": {},
   "outputs": [],
   "source": [
    "rgb_scale = 255\n",
    "cmyk_scale = 100\n",
    "\n",
    "\n",
    "def rgb_to_cmyk(r,g,b):\n",
    "    if (r == 0) and (g == 0) and (b == 0):\n",
    "        # black\n",
    "        return 0, 0, 0, cmyk_scale\n",
    "\n",
    "    # rgb [0,255] -> cmy [0,1]\n",
    "    c = 1 - r / float(rgb_scale)\n",
    "    m = 1 - g / float(rgb_scale)\n",
    "    y = 1 - b / float(rgb_scale)\n",
    "\n",
    "    # extract out k [0,1]\n",
    "    min_cmy = min(c, m, y)\n",
    "    c = (c - min_cmy) \n",
    "    m = (m - min_cmy) \n",
    "    y = (y - min_cmy) \n",
    "    k = min_cmy\n",
    "\n",
    "    # rescale to the range [0,cmyk_scale]\n",
    "    return c*cmyk_scale, m*cmyk_scale, y*cmyk_scale, k*cmyk_scale\n",
    "\n",
    "def cmyk_to_rgb(c,m,y,k):\n",
    "    \"\"\"\n",
    "    \"\"\"\n",
    "    r = rgb_scale*(1.0-(c+k)/float(cmyk_scale))\n",
    "    g = rgb_scale*(1.0-(m+k)/float(cmyk_scale))\n",
    "    b = rgb_scale*(1.0-(y+k)/float(cmyk_scale))\n",
    "    return r,g,b"
   ]
  },
  {
   "cell_type": "code",
   "execution_count": 7,
   "metadata": {},
   "outputs": [
    {
     "name": "stdout",
     "output_type": "stream",
     "text": [
      "(0.0, 0.0, 0.0, 0.0)\n",
      "(0.0, 0.0, 0.0, 3.1372549019607843)\n",
      "(0.0, 0.0, 0.0, 5.882352941176472)\n",
      "(0.0, 0.0, 0.0, 14.901960784313728)\n",
      "(0.0, 0.0, 0.0, 19.999999999999996)\n",
      "(0.0, 0.0, 0.0, 25.882352941176467)\n",
      "(0.0, 0.0, 0.0, 41.17647058823529)\n",
      "(0.0, 0.0, 0.0, 54.90196078431373)\n",
      "(0.0, 0.0, 0.0, 61.1764705882353)\n",
      "(0.0, 0.0, 0.0, 67.84313725490196)\n",
      "(0.0, 0.0, 0.0, 85.49019607843137)\n",
      "(0, 0, 0, 100)\n"
     ]
    }
   ],
   "source": [
    "for i in rgb_255:\n",
    "    print(rgb_to_cmyk(*i))"
   ]
  },
  {
   "cell_type": "code",
   "execution_count": 8,
   "metadata": {},
   "outputs": [
    {
     "data": {
      "text/plain": [
       "array([[[0.        , 0.        , 1.        ],\n",
       "        [0.        , 0.        , 0.96862745],\n",
       "        [0.        , 0.        , 0.94117647],\n",
       "        [0.        , 0.        , 0.85098039],\n",
       "        [0.        , 0.        , 0.8       ],\n",
       "        [0.        , 0.        , 0.74117647],\n",
       "        [0.        , 0.        , 0.58823529],\n",
       "        [0.        , 0.        , 0.45098039],\n",
       "        [0.        , 0.        , 0.38823529],\n",
       "        [0.        , 0.        , 0.32156863],\n",
       "        [0.        , 0.        , 0.14509804],\n",
       "        [0.        , 0.        , 0.        ]]])"
      ]
     },
     "execution_count": 8,
     "metadata": {},
     "output_type": "execute_result"
    }
   ],
   "source": [
    "hsv = color.rgb2hsv([rgb])\n",
    "hsv"
   ]
  },
  {
   "cell_type": "code",
   "execution_count": 9,
   "metadata": {},
   "outputs": [
    {
     "data": {
      "text/plain": [
       "array([[[0.950456  , 1.        , 1.088754  ],\n",
       "        [0.88402945, 0.93011086, 1.01266192],\n",
       "        [0.82819611, 0.87136712, 0.94870444],\n",
       "        [0.65949458, 0.69387176, 0.75545566],\n",
       "        [0.57391132, 0.60382734, 0.65741943],\n",
       "        [0.4836693 , 0.50888132, 0.55404657],\n",
       "        [0.28987702, 0.30498731, 0.33205616],\n",
       "        [0.16294722, 0.1714411 , 0.18665718],\n",
       "        [0.11859012, 0.12477182, 0.13584582],\n",
       "        [0.08019588, 0.08437621, 0.09186494],\n",
       "        [0.01758365, 0.01850022, 0.02014219],\n",
       "        [0.        , 0.        , 0.        ]]])"
      ]
     },
     "execution_count": 9,
     "metadata": {},
     "output_type": "execute_result"
    }
   ],
   "source": [
    "xyz = color.rgb2xyz([rgb])\n",
    "xyz"
   ]
  },
  {
   "cell_type": "code",
   "execution_count": 10,
   "metadata": {},
   "outputs": [
    {
     "data": {
      "text/plain": [
       "array([[[ 1.00000000e+02, -2.45493786e-03,  4.65342115e-03],\n",
       "        [ 9.72320997e+01, -2.39636008e-03,  4.54238490e-03],\n",
       "        [ 9.47962458e+01, -2.34480947e-03,  4.44466891e-03],\n",
       "        [ 8.66954164e+01, -2.17336953e-03,  4.11969848e-03],\n",
       "        [ 8.20457817e+01, -2.07496812e-03,  3.93317513e-03],\n",
       "        [ 7.66111959e+01, -1.95995458e-03,  3.71516292e-03],\n",
       "        [ 6.20821772e+01, -1.65247322e-03,  3.13232116e-03],\n",
       "        [ 4.84411039e+01, -1.36378367e-03,  2.58509997e-03],\n",
       "        [ 4.19646863e+01, -1.22672158e-03,  2.32529394e-03],\n",
       "        [ 3.48781522e+01, -1.07674743e-03,  2.04101267e-03],\n",
       "        [ 1.46796420e+01, -6.49281162e-04,  1.23073530e-03],\n",
       "        [ 0.00000000e+00,  0.00000000e+00,  0.00000000e+00]]])"
      ]
     },
     "execution_count": 10,
     "metadata": {},
     "output_type": "execute_result"
    }
   ],
   "source": [
    "lab = color.rgb2lab([rgb])\n",
    "lab"
   ]
  },
  {
   "cell_type": "code",
   "execution_count": 11,
   "metadata": {},
   "outputs": [
    {
     "data": {
      "text/plain": [
       "array([[[0.1488856 , 0.18288098, 0.19277574],\n",
       "        [0.14421468, 0.17714354, 0.18672788],\n",
       "        [0.14012763, 0.17212328, 0.18143599],\n",
       "        [0.12669873, 0.15562813, 0.16404838],\n",
       "        [0.11910848, 0.14630478, 0.15422059],\n",
       "        [0.11035051, 0.13554708, 0.14288084],\n",
       "        [0.08757977, 0.10757705, 0.1133975 ],\n",
       "        [0.06714449, 0.08247574, 0.08693808],\n",
       "        [0.05780265, 0.07100085, 0.07484235],\n",
       "        [0.04787694, 0.05880879, 0.06199063],\n",
       "        [0.02160301, 0.02653567, 0.02797138],\n",
       "        [0.        , 0.        , 0.        ]]])"
      ]
     },
     "execution_count": 11,
     "metadata": {},
     "output_type": "execute_result"
    }
   ],
   "source": [
    "rgbcie = color.rgb2rgbcie([rgb])\n",
    "rgbcie"
   ]
  },
  {
   "cell_type": "code",
   "execution_count": 12,
   "metadata": {},
   "outputs": [
    {
     "data": {
      "text/plain": [
       "array([[[-1.32950468,  0.38820839, -0.96892161],\n",
       "        [-1.3167827 ,  0.38449364, -0.95965003],\n",
       "        [-1.30554019,  0.38121088, -0.95145667],\n",
       "        [-1.26784743,  0.3702048 , -0.9239868 ],\n",
       "        [-1.24601176,  0.36382889, -0.90807331],\n",
       "        [-1.22031722,  0.35632622, -0.88934755],\n",
       "        [-1.15084042,  0.33603936, -0.83871397],\n",
       "        [-1.0849006 ,  0.31678528, -0.79065809],\n",
       "        [-1.05351687,  0.3076214 , -0.76778613],\n",
       "        [-1.01925506,  0.29761713, -0.74281668],\n",
       "        [-0.92358185,  0.26968105, -0.67309158],\n",
       "        [-0.83882406,  0.24493222, -0.61132147]]])"
      ]
     },
     "execution_count": 12,
     "metadata": {},
     "output_type": "execute_result"
    }
   ],
   "source": [
    "hed = color.rgb2hed([rgb])\n",
    "hed"
   ]
  },
  {
   "cell_type": "code",
   "execution_count": 13,
   "metadata": {},
   "outputs": [
    {
     "data": {
      "text/plain": [
       "array([[[ 1.00000000e+00,  0.00000000e+00, -9.71445147e-17],\n",
       "        [ 9.68627451e-01, -5.55111512e-17, -1.24900090e-16],\n",
       "        [ 9.41176471e-01,  0.00000000e+00, -1.38777878e-16],\n",
       "        [ 8.50980392e-01,  0.00000000e+00, -1.11022302e-16],\n",
       "        [ 8.00000000e-01,  0.00000000e+00, -9.71445147e-17],\n",
       "        [ 7.41176471e-01, -5.55111512e-17, -8.32667268e-17],\n",
       "        [ 5.88235294e-01,  0.00000000e+00, -6.24500451e-17],\n",
       "        [ 4.50980392e-01,  0.00000000e+00, -1.38777878e-17],\n",
       "        [ 3.88235294e-01,  0.00000000e+00, -2.08166817e-17],\n",
       "        [ 3.21568627e-01,  0.00000000e+00, -4.16333634e-17],\n",
       "        [ 1.45098039e-01,  0.00000000e+00, -2.08166817e-17],\n",
       "        [ 0.00000000e+00,  0.00000000e+00,  0.00000000e+00]]])"
      ]
     },
     "execution_count": 13,
     "metadata": {},
     "output_type": "execute_result"
    }
   ],
   "source": [
    "yuv = color.rgb2yuv([rgb])\n",
    "yuv"
   ]
  },
  {
   "cell_type": "code",
   "execution_count": 14,
   "metadata": {},
   "outputs": [
    {
     "data": {
      "text/plain": [
       "array([[[ 1.00000000e+00, -5.55111512e-17, -1.00000001e-08],\n",
       "        [ 9.68627451e-01, -5.55111512e-17, -9.68627456e-09],\n",
       "        [ 9.41176471e-01,  0.00000000e+00, -9.41176476e-09],\n",
       "        [ 8.50980392e-01,  0.00000000e+00, -8.50980397e-09],\n",
       "        [ 8.00000000e-01, -5.55111512e-17, -8.00000002e-09],\n",
       "        [ 7.41176471e-01, -2.77555756e-17, -7.41176479e-09],\n",
       "        [ 5.88235294e-01, -2.77555756e-17, -5.88235297e-09],\n",
       "        [ 4.50980392e-01, -2.77555756e-17, -4.50980392e-09],\n",
       "        [ 3.88235294e-01, -1.38777878e-17, -3.88235295e-09],\n",
       "        [ 3.21568627e-01, -2.77555756e-17, -3.21568630e-09],\n",
       "        [ 1.45098039e-01, -1.38777878e-17, -1.45098041e-09],\n",
       "        [ 0.00000000e+00,  0.00000000e+00,  0.00000000e+00]]])"
      ]
     },
     "execution_count": 14,
     "metadata": {},
     "output_type": "execute_result"
    }
   ],
   "source": [
    "yiq = color.rgb2yiq([rgb])\n",
    "yiq"
   ]
  },
  {
   "cell_type": "code",
   "execution_count": 15,
   "metadata": {},
   "outputs": [
    {
     "data": {
      "text/plain": [
       "array([[[ 1.00000000e+00,  0.00000000e+00,  0.00000000e+00],\n",
       "        [ 9.68627451e-01, -5.55111512e-17,  1.38777878e-17],\n",
       "        [ 9.41176471e-01,  0.00000000e+00,  0.00000000e+00],\n",
       "        [ 8.50980392e-01,  5.55111512e-17,  0.00000000e+00],\n",
       "        [ 8.00000000e-01,  0.00000000e+00, -1.38777878e-17],\n",
       "        [ 7.41176471e-01,  0.00000000e+00, -2.08166817e-17],\n",
       "        [ 5.88235294e-01,  0.00000000e+00,  6.93889390e-18],\n",
       "        [ 4.50980392e-01,  0.00000000e+00,  0.00000000e+00],\n",
       "        [ 3.88235294e-01,  2.77555756e-17,  0.00000000e+00],\n",
       "        [ 3.21568627e-01,  0.00000000e+00, -6.93889390e-18],\n",
       "        [ 1.45098039e-01,  0.00000000e+00,  1.73472348e-18],\n",
       "        [ 0.00000000e+00,  0.00000000e+00,  0.00000000e+00]]])"
      ]
     },
     "execution_count": 15,
     "metadata": {},
     "output_type": "execute_result"
    }
   ],
   "source": [
    "ypbpr = color.rgb2ypbpr([rgb])\n",
    "ypbpr"
   ]
  },
  {
   "cell_type": "code",
   "execution_count": 16,
   "metadata": {},
   "outputs": [
    {
     "data": {
      "text/plain": [
       "array([[[235.        , 128.        , 128.        ],\n",
       "        [228.12941176, 128.        , 128.        ],\n",
       "        [222.11764706, 128.        , 128.        ],\n",
       "        [202.36470588, 128.        , 128.        ],\n",
       "        [191.2       , 128.        , 128.        ],\n",
       "        [178.31764706, 128.        , 128.        ],\n",
       "        [144.82352941, 128.        , 128.        ],\n",
       "        [114.76470588, 128.        , 128.        ],\n",
       "        [101.02352941, 128.        , 128.        ],\n",
       "        [ 86.42352941, 128.        , 128.        ],\n",
       "        [ 47.77647059, 128.        , 128.        ],\n",
       "        [ 16.        , 128.        , 128.        ]]])"
      ]
     },
     "execution_count": 16,
     "metadata": {},
     "output_type": "execute_result"
    }
   ],
   "source": [
    "ycbcr = color.rgb2ycbcr([rgb])\n",
    "ycbcr"
   ]
  },
  {
   "cell_type": "code",
   "execution_count": 17,
   "metadata": {
    "scrolled": true
   },
   "outputs": [
    {
     "data": {
      "text/plain": [
       "array([[[ 1.00000000e+00,  0.00000000e+00,  1.38777878e-16],\n",
       "        [ 9.68627451e-01,  0.00000000e+00,  1.38777878e-16],\n",
       "        [ 9.41176471e-01,  0.00000000e+00,  1.94289029e-16],\n",
       "        [ 8.50980392e-01,  0.00000000e+00,  1.66533454e-16],\n",
       "        [ 8.00000000e-01,  0.00000000e+00,  1.38777878e-16],\n",
       "        [ 7.41176471e-01,  0.00000000e+00,  1.11022302e-16],\n",
       "        [ 5.88235294e-01,  0.00000000e+00,  8.32667268e-17],\n",
       "        [ 4.50980392e-01,  0.00000000e+00,  5.55111512e-17],\n",
       "        [ 3.88235294e-01,  0.00000000e+00,  6.93889390e-17],\n",
       "        [ 3.21568627e-01,  0.00000000e+00,  4.16333634e-17],\n",
       "        [ 1.45098039e-01, -2.77555756e-17,  2.08166817e-17],\n",
       "        [ 0.00000000e+00,  0.00000000e+00,  0.00000000e+00]]])"
      ]
     },
     "execution_count": 17,
     "metadata": {},
     "output_type": "execute_result"
    }
   ],
   "source": [
    "ydbdr = color.rgb2ydbdr([rgb])\n",
    "ydbdr"
   ]
  },
  {
   "cell_type": "code",
   "execution_count": 18,
   "metadata": {},
   "outputs": [
    {
     "data": {
      "text/plain": [
       "array([0.        , 0.        , 0.94117647])"
      ]
     },
     "execution_count": 18,
     "metadata": {},
     "output_type": "execute_result"
    }
   ],
   "source": [
    "hsv[0][2]"
   ]
  },
  {
   "cell_type": "code",
   "execution_count": 19,
   "metadata": {},
   "outputs": [
    {
     "data": {
      "image/png": "[encoded data removed]",
      "text/plain": [
       "<Figure size 432x288 with 12 Axes>"
      ]
     },
     "metadata": {},
     "output_type": "display_data"
    }
   ],
   "source": [
    "fig, axes = plt.subplots(1,len(rgb))\n",
    "for i, ax in enumerate(axes):\n",
    "    ax.imshow([[rgb[i]]])\n",
    "    ax.get_xaxis().set_ticks([])\n",
    "    ax.get_yaxis().set_ticks([])\n",
    "    ax.spines['top'].set_visible(False)\n",
    "    ax.spines['right'].set_visible(False)\n",
    "    ax.spines['bottom'].set_visible(False)\n",
    "    ax.spines['left'].set_visible(False)\n",
    "    ax.set_xlabel(\" {0} \\n {1}\".format(rgb_255[i], [\"{0:.2f}\".format(j) for j in hsv[0][i]]))\n",
    "fig.subplots_adjust(left=0.0, right=5.0, bottom = 0.0, top = 5.0)"
   ]
  },
  {
   "cell_type": "code",
   "execution_count": null,
   "metadata": {},
   "outputs": [],
   "source": []
  }
 ],
 "metadata": {
  "kernelspec": {
   "display_name": "Python 3",
   "language": "python",
   "name": "python3"
  },
  "language_info": {
   "codemirror_mode": {
    "name": "ipython",
    "version": 3
   },
   "file_extension": ".py",
   "mimetype": "text/x-python",
   "name": "python",
   "nbconvert_exporter": "python",
   "pygments_lexer": "ipython3",
   "version": "3.6.7"
  }
 },
 "nbformat": 4,
 "nbformat_minor": 2
}
