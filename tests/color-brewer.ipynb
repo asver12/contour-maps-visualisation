{
 "cells": [
  {
   "cell_type": "code",
   "execution_count": 4,
   "metadata": {},
   "outputs": [],
   "source": [
    "import numpy as np\n",
    "import matplotlib.pyplot as plt\n",
    "from skimage import color\n",
    "import sys\n",
    "sys.path.append(\"..\")\n",
    "from src import color_converter"
   ]
  },
  {
   "cell_type": "code",
   "execution_count": 5,
   "metadata": {},
   "outputs": [],
   "source": [
    "blue_color_scheme = [\"#f7fbff\", \"#eff3ff\", \"#deebf7\", \"#c6dbef\", \"#bdd7e7\", \"#9ecae1\", \"#6baed6\", \"#4292c6\", \"#3182bd\", \"#2171b5\", \"#08519c\", \"#084594\", \"#08306b\"]\n",
    "green_color_scheme = ['#f7fcf5', '#edf8e9', '#e5f5e0','#c7e9c0', '#bae4b3', '#a1d99b','#74c476','#41ab5d','#31a354' ,'#238b45','#006d2c', '#005a32','#00441b']\n",
    "orange_color_scheme = ['#fff5eb', '#feedde', '#fee6ce', '#fdd0a2', '#fdbe85', '#fdae6b', '#fd8d3c', '#f16913', '#e6550d', '#d94801', '#a63603', '#8c2d04', '#7f2704']\n",
    "purple_color_scheme = ['#fcfbfd', '#f2f0f7', '#efedf5', '#dadaeb', '#cbc9e2', '#bcbddc', '#9e9ac8', '#807dba', '#756bb1', '#6a51a3', '#54278f', '#4a1486', '#3f007d']\n",
    "red_color_scheme = ['#fff5f0', '#fee5d9', '#fee0d2', '#fcbba1', '#fcae91', '#fc9272', '#fb6a4a', '#ef3b2c', '#de2d26', '#cb181d', '#a50f15', '#99000d', '#67000d']\n",
    "grey_color_scheme = ['#ffffff','#f7f7f7', '#f0f0f0','#d9d9d9','#cccccc','#bdbdbd','#969696','#737373','#636363','#525252','#252525','#000000']"
   ]
  },
  {
   "cell_type": "code",
   "execution_count": 6,
   "metadata": {},
   "outputs": [],
   "source": [
    "rgb_in_hex = grey_color_scheme"
   ]
  },
  {
   "cell_type": "code",
   "execution_count": 7,
   "metadata": {},
   "outputs": [
    {
     "data": {
      "text/plain": [
       "[(255, 255, 255),\n",
       " (247, 247, 247),\n",
       " (240, 240, 240),\n",
       " (217, 217, 217),\n",
       " (204, 204, 204),\n",
       " (189, 189, 189),\n",
       " (150, 150, 150),\n",
       " (115, 115, 115),\n",
       " (99, 99, 99),\n",
       " (82, 82, 82),\n",
       " (37, 37, 37),\n",
       " (0, 0, 0)]"
      ]
     },
     "execution_count": 7,
     "metadata": {},
     "output_type": "execute_result"
    }
   ],
   "source": [
    "rgb = []\n",
    "rgb_255 = []\n",
    "for i in rgb_in_hex:\n",
    "    rgb_255.append(color_converter.hex_to_rgb(i))\n",
    "    rgb.append(color_converter.rgb255_to_rgb01(color_converter.hex_to_rgb(i)))\n",
    "rgb_255"
   ]
  },
  {
   "cell_type": "code",
   "execution_count": 8,
   "metadata": {},
   "outputs": [
    {
     "data": {
      "text/plain": [
       "[[1.0, 1.0, 1.0],\n",
       " [0.9686274509803922, 0.9686274509803922, 0.9686274509803922],\n",
       " [0.9411764705882353, 0.9411764705882353, 0.9411764705882353],\n",
       " [0.8509803921568627, 0.8509803921568627, 0.8509803921568627],\n",
       " [0.8, 0.8, 0.8],\n",
       " [0.7411764705882353, 0.7411764705882353, 0.7411764705882353],\n",
       " [0.5882352941176471, 0.5882352941176471, 0.5882352941176471],\n",
       " [0.45098039215686275, 0.45098039215686275, 0.45098039215686275],\n",
       " [0.38823529411764707, 0.38823529411764707, 0.38823529411764707],\n",
       " [0.3215686274509804, 0.3215686274509804, 0.3215686274509804],\n",
       " [0.1450980392156863, 0.1450980392156863, 0.1450980392156863],\n",
       " [0.0, 0.0, 0.0]]"
      ]
     },
     "execution_count": 8,
     "metadata": {},
     "output_type": "execute_result"
    }
   ],
   "source": [
    "rgb"
   ]
  },
  {
   "cell_type": "code",
   "execution_count": 44,
   "metadata": {},
   "outputs": [],
   "source": [
    "rgb_scale = 255\n",
    "cmyk_scale = 100\n",
    "\n",
    "\n",
    "def rgb_to_cmyk(r,g,b):\n",
    "    if (r == 0) and (g == 0) and (b == 0):\n",
    "        # black\n",
    "        return 0, 0, 0, cmyk_scale\n",
    "\n",
    "    # rgb [0,255] -> cmy [0,1]\n",
    "    c = 1 - r / float(rgb_scale)\n",
    "    m = 1 - g / float(rgb_scale)\n",
    "    y = 1 - b / float(rgb_scale)\n",
    "\n",
    "    # extract out k [0,1]\n",
    "    min_cmy = min(c, m, y)\n",
    "    c = (c - min_cmy) \n",
    "    m = (m - min_cmy) \n",
    "    y = (y - min_cmy) \n",
    "    k = min_cmy\n",
    "\n",
    "    # rescale to the range [0,cmyk_scale]\n",
    "    return c*cmyk_scale, m*cmyk_scale, y*cmyk_scale, k*cmyk_scale\n",
    "\n",
    "def cmyk_to_rgb(c,m,y,k):\n",
    "    \"\"\"\n",
    "    \"\"\"\n",
    "    r = rgb_scale*(1.0-(c+k)/float(cmyk_scale))\n",
    "    g = rgb_scale*(1.0-(m+k)/float(cmyk_scale))\n",
    "    b = rgb_scale*(1.0-(y+k)/float(cmyk_scale))\n",
    "    return r,g,b"
   ]
  },
  {
   "cell_type": "code",
   "execution_count": 45,
   "metadata": {},
   "outputs": [
    {
     "name": "stdout",
     "output_type": "stream",
     "text": [
      "(3.1372549019607843, 1.5686274509803977, 0.0, 0.0)\n",
      "(6.2745098039215685, 4.705882352941182, 0.0, 0.0)\n",
      "(9.80392156862745, 4.705882352941182, 0.0, 3.1372549019607843)\n",
      "(16.07843137254902, 7.843137254901967, 0.0, 6.2745098039215685)\n",
      "(16.470588235294116, 6.2745098039215685, 0.0, 9.411764705882353)\n",
      "(26.274509803921564, 9.019607843137257, 0.0, 11.764705882352944)\n",
      "(41.96078431372548, 15.686274509803921, 0.0, 16.07843137254902)\n",
      "(51.76470588235295, 20.392156862745104, 0.0, 22.352941176470587)\n",
      "(54.90196078431373, 23.13725490196079, 0.0, 25.882352941176467)\n",
      "(58.03921568627452, 26.66666666666667, 0.0, 29.01960784313725)\n",
      "(58.03921568627452, 29.41176470588236, 0.0, 38.8235294117647)\n",
      "(54.90196078431373, 30.980392156862756, 0.0, 41.96078431372548)\n",
      "(38.82352941176471, 23.13725490196079, 0.0, 58.0392156862745)\n"
     ]
    }
   ],
   "source": [
    "for i in rgb_255:\n",
    "    print(rgb_to_cmyk(*i))"
   ]
  },
  {
   "cell_type": "code",
   "execution_count": 46,
   "metadata": {},
   "outputs": [
    {
     "data": {
      "text/plain": [
       "array([[[0.58333333, 0.03137255, 1.        ],\n",
       "        [0.625     , 0.0627451 , 1.        ],\n",
       "        [0.58      , 0.10121457, 0.96862745],\n",
       "        [0.58130081, 0.17154812, 0.9372549 ],\n",
       "        [0.56349206, 0.18181818, 0.90588235],\n",
       "        [0.55721393, 0.29777778, 0.88235294],\n",
       "        [0.5623053 , 0.5       , 0.83921569],\n",
       "        [0.56565657, 0.66666667, 0.77647059],\n",
       "        [0.5702381 , 0.74074074, 0.74117647],\n",
       "        [0.57657658, 0.81767956, 0.70980392],\n",
       "        [0.58445946, 0.94871795, 0.61176471],\n",
       "        [0.59404762, 0.94594595, 0.58039216],\n",
       "        [0.5993266 , 0.92523364, 0.41960784]]])"
      ]
     },
     "execution_count": 46,
     "metadata": {},
     "output_type": "execute_result"
    }
   ],
   "source": [
    "hsv = color.rgb2hsv([rgb])\n",
    "hsv"
   ]
  },
  {
   "cell_type": "code",
   "execution_count": 47,
   "metadata": {},
   "outputs": [
    {
     "data": {
      "text/plain": [
       "array([[[0.90900252, 0.95988162, 1.08319361],\n",
       "        [0.85692278, 0.8967135 , 1.07374431],\n",
       "        [0.76616081, 0.81660637, 0.99696113],\n",
       "        [0.64195138, 0.68899298, 0.91554686],\n",
       "        [0.59705694, 0.65187634, 0.85016441],\n",
       "        [0.48806521, 0.54944134, 0.79247423],\n",
       "        [0.3333181 , 0.38250209, 0.69226681],\n",
       "        [0.22714059, 0.25790723, 0.57191838],\n",
       "        [0.1843036 , 0.20290102, 0.51075379],\n",
       "        [0.14869009, 0.15467799, 0.45905468],\n",
       "        [0.09040608, 0.08335441, 0.3257589 ],\n",
       "        [0.07571171, 0.06444847, 0.28853885],\n",
       "        [0.03809756, 0.03226509, 0.14327919]]])"
      ]
     },
     "execution_count": 47,
     "metadata": {},
     "output_type": "execute_result"
    }
   ],
   "source": [
    "xyz = color.rgb2xyz([rgb])\n",
    "xyz"
   ]
  },
  {
   "cell_type": "code",
   "execution_count": 48,
   "metadata": {},
   "outputs": [
    {
     "data": {
      "text/plain": [
       "array([[[ 98.42753655,  -0.60192552,  -2.36544299],\n",
       "        [ 95.86027732,   0.87028521,  -6.20949064],\n",
       "        [ 92.42487013,  -2.01558739,  -7.26958064],\n",
       "        [ 86.45415775,  -2.9225698 , -12.12657487],\n",
       "        [ 84.58033123,  -5.32034534, -10.75226692],\n",
       "        [ 79.00907723,  -9.1319511 , -16.09422406],\n",
       "        [ 68.20462145, -10.35539934, -26.79560368],\n",
       "        [ 57.83787016,  -7.98548982, -34.06277784],\n",
       "        [ 52.16363358,  -4.40658057, -37.87511826],\n",
       "        [ 46.26836914,   1.01443703, -42.608574  ],\n",
       "        [ 34.67193758,   9.82541729, -46.39945808],\n",
       "        [ 30.50812833,  14.66916646, -48.27657448],\n",
       "        [ 20.9291183 ,  11.93835652, -38.05644408]]])"
      ]
     },
     "execution_count": 48,
     "metadata": {},
     "output_type": "execute_result"
    }
   ],
   "source": [
    "lab = color.rgb2lab([rgb])\n",
    "lab"
   ]
  },
  {
   "cell_type": "code",
   "execution_count": 49,
   "metadata": {},
   "outputs": [
    {
     "data": {
      "text/plain": [
       "array([[[0.14416716, 0.1800171 , 0.19236202],\n",
       "        [0.13903627, 0.17480341, 0.19163782],\n",
       "        [0.12952112, 0.16848765, 0.18547381],\n",
       "        [0.11541332, 0.15702245, 0.1785985 ],\n",
       "        [0.1106166 , 0.15357057, 0.17284822],\n",
       "        [0.09293541, 0.14354888, 0.16744636],\n",
       "        [0.06323003, 0.12310287, 0.15729481],\n",
       "        [0.03919463, 0.1029721 , 0.14394501],\n",
       "        [0.02891206, 0.09189124, 0.13649457],\n",
       "        [0.01900714, 0.08035264, 0.12964488],\n",
       "        [0.00368872, 0.05831095, 0.11020194],\n",
       "        [0.00291133, 0.05073775, 0.10394682],\n",
       "        [0.00310331, 0.035717  , 0.07503302]]])"
      ]
     },
     "execution_count": 49,
     "metadata": {},
     "output_type": "execute_result"
    }
   ],
   "source": [
    "rgbcie = color.rgb2rgbcie([rgb])\n",
    "rgbcie"
   ]
  },
  {
   "cell_type": "code",
   "execution_count": 50,
   "metadata": {},
   "outputs": [
    {
     "data": {
      "text/plain": [
       "array([[[-1.31010776,  0.38356388, -0.97547829],\n",
       "        [-1.29085209,  0.38485001, -0.98281883],\n",
       "        [-1.25476804,  0.36878492, -0.98049143],\n",
       "        [-1.19998854,  0.35472402, -0.98525436],\n",
       "        [-1.18278898,  0.34291695, -0.97621685],\n",
       "        [-1.10368496,  0.31383174, -0.99110232],\n",
       "        [-0.96625763,  0.27208392, -1.01697739],\n",
       "        [-0.85333074,  0.23948707, -1.02571565],\n",
       "        [-0.80639764,  0.23117219, -1.0255908 ],\n",
       "        [-0.76056359,  0.22692786, -1.02727551],\n",
       "        [-0.69770235,  0.22156342, -1.00264669],\n",
       "        [-0.70632826,  0.23903508, -0.98641032],\n",
       "        [-0.74748739,  0.25004813, -0.89017876]]])"
      ]
     },
     "execution_count": 50,
     "metadata": {},
     "output_type": "execute_result"
    }
   ],
   "source": [
    "hed = color.rgb2hed([rgb])\n",
    "hed"
   ]
  },
  {
   "cell_type": "code",
   "execution_count": 51,
   "metadata": {},
   "outputs": [
    {
     "data": {
      "text/plain": [
       "array([[[ 0.98141176,  0.00914748, -0.01121546],\n",
       "        [ 0.95361569,  0.02282623, -0.01435304],\n",
       "        [ 0.9116902 ,  0.02801945, -0.03605805],\n",
       "        [ 0.84314118,  0.0463144 , -0.05848897],\n",
       "        [ 0.81980392,  0.04236014, -0.06897853],\n",
       "        [ 0.75084706,  0.06471549, -0.11513393],\n",
       "        [ 0.62167451,  0.10705441, -0.17726965],\n",
       "        [ 0.50199216,  0.13507386, -0.2133277 ],\n",
       "        [ 0.44120392,  0.14761979, -0.21848475],\n",
       "        [ 0.37973333,  0.16243137, -0.21960286],\n",
       "        [ 0.26558039,  0.17036111, -0.20546656],\n",
       "        [ 0.23438039,  0.1702762 , -0.17809533],\n",
       "        [ 0.1677098 ,  0.1239618 , -0.11960636]]])"
      ]
     },
     "execution_count": 51,
     "metadata": {},
     "output_type": "execute_result"
    }
   ],
   "source": [
    "yuv = color.rgb2yuv([rgb])\n",
    "yuv"
   ]
  },
  {
   "cell_type": "code",
   "execution_count": 52,
   "metadata": {},
   "outputs": [
    {
     "data": {
      "text/plain": [
       "array([[[ 0.98141176, -0.01438815,  0.00156333],\n",
       "        [ 0.95361569, -0.02446953,  0.01132645],\n",
       "        [ 0.9116902 , -0.04550131,  0.00386046],\n",
       "        [ 0.84314118, -0.07427761,  0.00698714],\n",
       "        [ 0.81980392, -0.08092125, -0.0020422 ],\n",
       "        [ 0.75084706, -0.13180602, -0.00843146],\n",
       "        [ 0.62167451, -0.20697685, -0.0067646 ],\n",
       "        [ 0.50199216, -0.25247816, -0.00290413],\n",
       "        [ 0.44120392, -0.26363623,  0.00480905],\n",
       "        [ 0.37973333, -0.27264092,  0.01662212],\n",
       "        [ 0.26558039, -0.26510407,  0.03097174],\n",
       "        [ 0.23438039, -0.24210238,  0.04580796],\n",
       "        [ 0.1677098 , -0.16782476,  0.03882082]]])"
      ]
     },
     "execution_count": 52,
     "metadata": {},
     "output_type": "execute_result"
    }
   ],
   "source": [
    "yiq = color.rgb2yiq([rgb])\n",
    "yiq"
   ]
  },
  {
   "cell_type": "code",
   "execution_count": 53,
   "metadata": {},
   "outputs": [
    {
     "data": {
      "text/plain": [
       "array([[[ 0.98141176,  0.01048998, -0.00911862],\n",
       "        [ 0.95361569,  0.02617625, -0.01166958],\n",
       "        [ 0.9116902 ,  0.03213164, -0.02931664],\n",
       "        [ 0.84314118,  0.05311159, -0.04755388],\n",
       "        [ 0.81980392,  0.048577  , -0.05608232],\n",
       "        [ 0.75084706,  0.07421327, -0.09360853],\n",
       "        [ 0.62167451,  0.12276593, -0.14412737],\n",
       "        [ 0.50199216,  0.15489757, -0.17344402],\n",
       "        [ 0.44120392,  0.16928477, -0.17763689],\n",
       "        [ 0.37973333,  0.18627012, -0.17854595],\n",
       "        [ 0.26558039,  0.19536364, -0.16705255],\n",
       "        [ 0.23438039,  0.19526626, -0.14479862],\n",
       "        [ 0.1677098 ,  0.14215467, -0.09724474]]])"
      ]
     },
     "execution_count": 53,
     "metadata": {},
     "output_type": "execute_result"
    }
   ],
   "source": [
    "ypbpr = color.rgb2ypbpr([rgb])\n",
    "ypbpr"
   ]
  },
  {
   "cell_type": "code",
   "execution_count": 54,
   "metadata": {},
   "outputs": [
    {
     "data": {
      "text/plain": [
       "array([[[230.92917647, 130.34975686, 125.95742745],\n",
       "        [224.84183529, 133.86348235, 125.38600784],\n",
       "        [215.66015294, 135.19749412, 121.43306667],\n",
       "        [200.64791765, 139.89700784, 117.34792157],\n",
       "        [195.53705882, 138.88126275, 115.43755294],\n",
       "        [180.43550588, 144.62379608, 107.03167843],\n",
       "        [152.14671765, 155.49960392,  95.71545098],\n",
       "        [125.93628235, 162.69709804,  89.14851765],\n",
       "        [112.62365882, 165.91983137,  88.2093098 ],\n",
       "        [ 99.1616    , 169.72454902,  88.00567843],\n",
       "        [ 74.16210588, 171.76149412,  90.58019608],\n",
       "        [ 67.32930588, 171.73967451,  95.56507451],\n",
       "        [ 52.72844706, 159.84266667, 106.21715294]]])"
      ]
     },
     "execution_count": 54,
     "metadata": {},
     "output_type": "execute_result"
    }
   ],
   "source": [
    "ycbcr = color.rgb2ycbcr([rgb])\n",
    "ycbcr"
   ]
  },
  {
   "cell_type": "code",
   "execution_count": 55,
   "metadata": {
    "scrolled": true
   },
   "outputs": [
    {
     "data": {
      "text/plain": [
       "array([[[0.98141176, 0.02796863, 0.02431373],\n",
       "        [0.95361569, 0.06978824, 0.03112157],\n",
       "        [0.9116902 , 0.08567059, 0.07816863],\n",
       "        [0.84314118, 0.14160784, 0.12679608],\n",
       "        [0.81980392, 0.12952157, 0.14952941],\n",
       "        [0.75084706, 0.19787843, 0.24958039],\n",
       "        [0.62167451, 0.32733333, 0.38427843],\n",
       "        [0.50199216, 0.41300392, 0.46244706],\n",
       "        [0.44120392, 0.45136078, 0.47363137],\n",
       "        [0.37973333, 0.49664314, 0.47606275],\n",
       "        [0.26558039, 0.52088235, 0.44542745],\n",
       "        [0.23438039, 0.52061569, 0.38610196],\n",
       "        [0.1677098 , 0.37900784, 0.25930588]]])"
      ]
     },
     "execution_count": 55,
     "metadata": {},
     "output_type": "execute_result"
    }
   ],
   "source": [
    "ydbdr = color.rgb2ydbdr([rgb])\n",
    "ydbdr"
   ]
  },
  {
   "cell_type": "code",
   "execution_count": 56,
   "metadata": {},
   "outputs": [
    {
     "data": {
      "text/plain": [
       "array([0.58      , 0.10121457, 0.96862745])"
      ]
     },
     "execution_count": 56,
     "metadata": {},
     "output_type": "execute_result"
    }
   ],
   "source": [
    "hsv[0][2]"
   ]
  },
  {
   "cell_type": "code",
   "execution_count": 57,
   "metadata": {},
   "outputs": [
    {
     "data": {
      "image/png": "[encoded data removed]",
      "text/plain": [
       "<Figure size 432x288 with 13 Axes>"
      ]
     },
     "metadata": {},
     "output_type": "display_data"
    }
   ],
   "source": [
    "fig, axes = plt.subplots(1,len(rgb))\n",
    "for i, ax in enumerate(axes):\n",
    "    ax.imshow([[rgb[i]]])\n",
    "    ax.get_xaxis().set_ticks([])\n",
    "    ax.get_yaxis().set_ticks([])\n",
    "    ax.spines['top'].set_visible(False)\n",
    "    ax.spines['right'].set_visible(False)\n",
    "    ax.spines['bottom'].set_visible(False)\n",
    "    ax.spines['left'].set_visible(False)\n",
    "    ax.set_xlabel(\" {0} \\n {1}\".format(rgb_255[i], [\"{0:.2f}\".format(j) for j in hsv[0][i]]))\n",
    "fig.subplots_adjust(left=0.0, right=5.0, bottom = 0.0, top = 5.0)"
   ]
  },
  {
   "cell_type": "code",
   "execution_count": null,
   "metadata": {},
   "outputs": [],
   "source": []
  }
 ],
 "metadata": {
  "kernelspec": {
   "display_name": "Python 3",
   "language": "python",
   "name": "python3"
  },
  "language_info": {
   "codemirror_mode": {
    "name": "ipython",
    "version": 3
   },
   "file_extension": ".py",
   "mimetype": "text/x-python",
   "name": "python",
   "nbconvert_exporter": "python",
   "pygments_lexer": "ipython3",
   "version": "3.6.7"
  }
 },
 "nbformat": 4,
 "nbformat_minor": 2
}
