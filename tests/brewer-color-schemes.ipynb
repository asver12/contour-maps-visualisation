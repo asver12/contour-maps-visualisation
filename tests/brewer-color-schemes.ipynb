{
 "cells": [
  {
   "cell_type": "code",
   "execution_count": 3,
   "metadata": {},
   "outputs": [],
   "source": [
    "import numpy as np\n",
    "\n",
    "import sys\n",
    "sys.path.append(\"..\")\n",
    "from src import color_schemes"
   ]
  },
  {
   "cell_type": "code",
   "execution_count": 4,
   "metadata": {},
   "outputs": [],
   "source": [
    "z_min, z_max = 1,10\n",
    "levels = np.linspace(z_min,z_max,10)#[1:6]\n",
    "colormap_green = color_schemes.create_color_brewer_colorscheme(\"green\",levels)"
   ]
  },
  {
   "cell_type": "code",
   "execution_count": 5,
   "metadata": {},
   "outputs": [
    {
     "data": {
      "text/plain": [
       "[array([1., 1., 1., 1.]),\n",
       " array([1., 1., 1., 1.]),\n",
       " array([0.85098039, 0.94196078, 0.82823529, 1.        ]),\n",
       " array([0.74980392, 0.90196078, 0.72235294, 1.        ]),\n",
       " array([0.65098039, 0.85960784, 0.62666667, 1.        ]),\n",
       " array([0.45490196, 0.76862745, 0.4627451 , 1.        ]),\n",
       " array([0.24235294, 0.66431373, 0.35764706, 1.        ]),\n",
       " array([0.17019608, 0.60156863, 0.30588235, 1.        ]),\n",
       " array([0.05490196, 0.4745098 , 0.21176471, 1.        ]),\n",
       " array([0.        , 0.36784314, 0.19137255, 1.        ]),\n",
       " array([0.        , 0.26666667, 0.10588235, 1.        ])]"
      ]
     },
     "execution_count": 5,
     "metadata": {},
     "output_type": "execute_result"
    }
   ],
   "source": [
    "colormap_green"
   ]
  },
  {
   "cell_type": "code",
   "execution_count": 7,
   "metadata": {},
   "outputs": [
    {
     "data": {
      "text/plain": [
       "[array([1., 1., 1., 1.]),\n",
       " array([1., 1., 1., 1.]),\n",
       " array([0.92313725, 0.97019608, 0.90666667, 1.        ]),\n",
       " array([0.90431373, 0.96313725, 0.8854902 , 1.        ]),\n",
       " array([0.85098039, 0.94196078, 0.82823529, 1.        ]),\n",
       " array([0.78039216, 0.91372549, 0.75294118, 1.        ]),\n",
       " array([0.74980392, 0.90196078, 0.72235294, 1.        ]),\n",
       " array([0.70980392, 0.8854902 , 0.68313725, 1.        ]),\n",
       " array([0.65098039, 0.85960784, 0.62666667, 1.        ]),\n",
       " array([0.56078431, 0.81803922, 0.54980392, 1.        ]),\n",
       " array([0.45490196, 0.76862745, 0.4627451 , 1.        ])]"
      ]
     },
     "execution_count": 7,
     "metadata": {},
     "output_type": "execute_result"
    }
   ],
   "source": [
    "z_min, z_max = 1,10\n",
    "levels = np.linspace(z_min,z_max,10)#[1:6]\n",
    "colormap_green = color_schemes.create_color_brewer_colorscheme(\"green\",levels,0,0.5)\n",
    "colormap_green"
   ]
  },
  {
   "cell_type": "code",
   "execution_count": null,
   "metadata": {},
   "outputs": [],
   "source": []
  }
 ],
 "metadata": {
  "kernelspec": {
   "display_name": "Python 3",
   "language": "python",
   "name": "python3"
  },
  "language_info": {
   "codemirror_mode": {
    "name": "ipython",
    "version": 3
   },
   "file_extension": ".py",
   "mimetype": "text/x-python",
   "name": "python",
   "nbconvert_exporter": "python",
   "pygments_lexer": "ipython3",
   "version": "3.6.7"
  }
 },
 "nbformat": 4,
 "nbformat_minor": 2
}
