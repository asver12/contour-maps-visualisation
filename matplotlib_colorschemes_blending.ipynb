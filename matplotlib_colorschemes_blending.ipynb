{
 "cells": [
  {
   "cell_type": "code",
   "execution_count": 1,
   "metadata": {},
   "outputs": [],
   "source": [
    "from matplotlib import pyplot as plt\n",
    "from numpy.random import randn\n",
    "%matplotlib inline\n",
    "import numpy as np\n",
    "\n",
    "import color_blending_operator\n",
    "import color_converter\n",
    "import color_operations\n",
    "import color_schemes\n",
    "import picture_worker\n",
    "import helper"
   ]
  },
  {
   "cell_type": "code",
   "execution_count": null,
   "metadata": {
    "scrolled": true
   },
   "outputs": [],
   "source": []
  },
  {
   "cell_type": "code",
   "execution_count": 2,
   "metadata": {},
   "outputs": [],
   "source": [
    "x_min, x_max = -10, 10\n",
    "y_min, y_max = -10, 10\n",
    "size = 200\n",
    "\n",
    "mu_x_1 = 0\n",
    "mu_y_1 = 0\n",
    "mu_variance_x_1 = 3\n",
    "mu_variance_y_1 = 15\n",
    "gaussian_1 = (mu_x_1,mu_variance_x_1,mu_y_1,mu_variance_y_1)\n",
    "mu_x_2 = 3\n",
    "mu_y_2 = 3\n",
    "mu_variance_x_2 = 4\n",
    "mu_variance_y_2 = 4\n",
    "gaussian_2 = (mu_x_2,mu_variance_x_2,mu_y_2,mu_variance_y_2)\n",
    "mu_x_3 = -2\n",
    "mu_y_3 = -1\n",
    "mu_variance_x_3 = 7\n",
    "mu_variance_y_3 = 7\n",
    "gaussian_3 = (mu_x_3,mu_variance_x_3,mu_y_3,mu_variance_y_3)"
   ]
  },
  {
   "cell_type": "code",
   "execution_count": 3,
   "metadata": {},
   "outputs": [],
   "source": [
    "X, Y, Z = helper.get_gaussian(x_min,x_max,y_min,y_max,*gaussian_1,size)\n",
    "X_1, Y_1, Z_1 = helper.get_gaussian(x_min,x_max,y_min,y_max,*gaussian_2,size)\n",
    "X_2, Y_2, Z_2 = helper.get_gaussian(x_min,x_max,y_min,y_max,*gaussian_3,size)"
   ]
  },
  {
   "cell_type": "code",
   "execution_count": 4,
   "metadata": {},
   "outputs": [],
   "source": [
    "Z_new = picture_worker.get_colorgrid(Z,color_schemes.matplotlib_colorschemes,\"PuBu\",10)\n",
    "Z_new_1 = picture_worker.get_colorgrid(Z_1,color_schemes.matplotlib_colorschemes,\"OrRd\",10)\n",
    "Z_new_2 = picture_worker.get_colorgrid(Z_2,color_schemes.matplotlib_colorschemes,\"RdPu\",10)"
   ]
  },
  {
   "cell_type": "code",
   "execution_count": 6,
   "metadata": {},
   "outputs": [
    {
     "ename": "IndexError",
     "evalue": "index 3 is out of bounds for axis 0 with size 3",
     "output_type": "error",
     "traceback": [
      "\u001b[0;31m---------------------------------------------------------------------------\u001b[0m",
      "\u001b[0;31mIndexError\u001b[0m                                Traceback (most recent call last)",
      "\u001b[0;32m<ipython-input-6-537f537228f4>\u001b[0m in \u001b[0;36m<module>\u001b[0;34m\u001b[0m\n\u001b[0;32m----> 1\u001b[0;31m \u001b[0mmixed\u001b[0m \u001b[0;34m=\u001b[0m \u001b[0mpicture_worker\u001b[0m\u001b[0;34m.\u001b[0m\u001b[0mcombine_two_images\u001b[0m\u001b[0;34m(\u001b[0m\u001b[0mcolor_blending_operator\u001b[0m\u001b[0;34m.\u001b[0m\u001b[0mporter_duff_source_over_rgb\u001b[0m\u001b[0;34m,\u001b[0m \u001b[0mZ_new\u001b[0m\u001b[0;34m,\u001b[0m\u001b[0mZ_new_1\u001b[0m\u001b[0;34m,\u001b[0m\u001b[0malpha\u001b[0m\u001b[0;34m=\u001b[0m\u001b[0;36m0.5\u001b[0m\u001b[0;34m)\u001b[0m\u001b[0;34m\u001b[0m\u001b[0;34m\u001b[0m\u001b[0m\n\u001b[0m",
      "\u001b[0;32m~/PycharmProjects/contour-maps-visualisation/picture_worker.py\u001b[0m in \u001b[0;36mcombine_two_images\u001b[0;34m(blending_operator, img, img2, color_space, *args, **kwargs)\u001b[0m\n\u001b[1;32m     57\u001b[0m             \u001b[0;31m# else:\u001b[0m\u001b[0;34m\u001b[0m\u001b[0;34m\u001b[0m\u001b[0;34m\u001b[0m\u001b[0m\n\u001b[1;32m     58\u001b[0m             reduce[i][j] = color_operations.blend_rgb255(blending_operator, img[i][j], img2[i][j],\n\u001b[0;32m---> 59\u001b[0;31m                                                          *args, **kwargs)\n\u001b[0m\u001b[1;32m     60\u001b[0m     \u001b[0;32mif\u001b[0m \u001b[0mcolor_space\u001b[0m \u001b[0;34m==\u001b[0m \u001b[0;34m\"lab\"\u001b[0m\u001b[0;34m:\u001b[0m\u001b[0;34m\u001b[0m\u001b[0;34m\u001b[0m\u001b[0m\n\u001b[1;32m     61\u001b[0m         \u001b[0mreduce\u001b[0m \u001b[0;34m=\u001b[0m \u001b[0mcolor\u001b[0m\u001b[0;34m.\u001b[0m\u001b[0mlab2rgb\u001b[0m\u001b[0;34m(\u001b[0m\u001b[0mreduce\u001b[0m\u001b[0;34m)\u001b[0m\u001b[0;34m\u001b[0m\u001b[0;34m\u001b[0m\u001b[0m\n",
      "\u001b[0;32m~/PycharmProjects/contour-maps-visualisation/color_operations.py\u001b[0m in \u001b[0;36mblend_rgb255\u001b[0;34m(blending_operator, color_1, color_2, *args, **kwargs)\u001b[0m\n\u001b[1;32m     17\u001b[0m \u001b[0;34m\u001b[0m\u001b[0m\n\u001b[1;32m     18\u001b[0m     \u001b[0;31m# color_blending_operator.porter_duff_source_over\u001b[0m\u001b[0;34m\u001b[0m\u001b[0;34m\u001b[0m\u001b[0;34m\u001b[0m\u001b[0m\n\u001b[0;32m---> 19\u001b[0;31m     \u001b[0;32mreturn\u001b[0m \u001b[0mblending_operator\u001b[0m\u001b[0;34m(\u001b[0m\u001b[0mcolor_1\u001b[0m\u001b[0;34m,\u001b[0m \u001b[0mcolor_2\u001b[0m\u001b[0;34m,\u001b[0m \u001b[0;34m*\u001b[0m\u001b[0margs\u001b[0m\u001b[0;34m,\u001b[0m \u001b[0;34m**\u001b[0m\u001b[0mkwargs\u001b[0m\u001b[0;34m)\u001b[0m\u001b[0;34m\u001b[0m\u001b[0;34m\u001b[0m\u001b[0m\n\u001b[0m\u001b[1;32m     20\u001b[0m \u001b[0;34m\u001b[0m\u001b[0m\n\u001b[1;32m     21\u001b[0m \u001b[0;34m\u001b[0m\u001b[0m\n",
      "\u001b[0;32m~/PycharmProjects/contour-maps-visualisation/color_blending_operator.py\u001b[0m in \u001b[0;36mporter_duff_source_over_rgb\u001b[0;34m(color_1, color_2, alpha)\u001b[0m\n\u001b[1;32m     39\u001b[0m     \u001b[0mcolor_1\u001b[0m \u001b[0;34m=\u001b[0m \u001b[0mnp\u001b[0m\u001b[0;34m.\u001b[0m\u001b[0masarray\u001b[0m\u001b[0;34m(\u001b[0m\u001b[0mcolor_1\u001b[0m\u001b[0;34m)\u001b[0m\u001b[0;34m\u001b[0m\u001b[0;34m\u001b[0m\u001b[0m\n\u001b[1;32m     40\u001b[0m     \u001b[0mcolor_2\u001b[0m \u001b[0;34m=\u001b[0m \u001b[0mnp\u001b[0m\u001b[0;34m.\u001b[0m\u001b[0masarray\u001b[0m\u001b[0;34m(\u001b[0m\u001b[0mcolor_2\u001b[0m\u001b[0;34m)\u001b[0m\u001b[0;34m\u001b[0m\u001b[0;34m\u001b[0m\u001b[0m\n\u001b[0;32m---> 41\u001b[0;31m     \u001b[0;32mreturn\u001b[0m \u001b[0mnp\u001b[0m\u001b[0;34m.\u001b[0m\u001b[0mappend\u001b[0m\u001b[0;34m(\u001b[0m\u001b[0mcolor_1\u001b[0m\u001b[0;34m[\u001b[0m\u001b[0;34m:\u001b[0m\u001b[0;36m3\u001b[0m\u001b[0;34m]\u001b[0m \u001b[0;34m*\u001b[0m \u001b[0malpha\u001b[0m \u001b[0;34m+\u001b[0m \u001b[0mcolor_2\u001b[0m\u001b[0;34m[\u001b[0m\u001b[0;34m:\u001b[0m\u001b[0;36m3\u001b[0m\u001b[0;34m]\u001b[0m \u001b[0;34m*\u001b[0m \u001b[0;34m(\u001b[0m\u001b[0;36m1\u001b[0m \u001b[0;34m-\u001b[0m \u001b[0malpha\u001b[0m\u001b[0;34m)\u001b[0m\u001b[0;34m,\u001b[0m\u001b[0mmax\u001b[0m\u001b[0;34m(\u001b[0m\u001b[0mcolor_1\u001b[0m\u001b[0;34m[\u001b[0m\u001b[0;36m3\u001b[0m\u001b[0;34m]\u001b[0m\u001b[0;34m,\u001b[0m\u001b[0mcolor_2\u001b[0m\u001b[0;34m[\u001b[0m\u001b[0;36m3\u001b[0m\u001b[0;34m]\u001b[0m\u001b[0;34m)\u001b[0m\u001b[0;34m)\u001b[0m\u001b[0;34m\u001b[0m\u001b[0;34m\u001b[0m\u001b[0m\n\u001b[0m\u001b[1;32m     42\u001b[0m \u001b[0;34m\u001b[0m\u001b[0m\n\u001b[1;32m     43\u001b[0m \u001b[0;32mdef\u001b[0m \u001b[0msimple_alpha_composing\u001b[0m\u001b[0;34m(\u001b[0m\u001b[0mcolor_1\u001b[0m\u001b[0;34m,\u001b[0m \u001b[0mcolor_2\u001b[0m\u001b[0;34m,\u001b[0m \u001b[0mverbose\u001b[0m\u001b[0;34m=\u001b[0m\u001b[0;32mFalse\u001b[0m\u001b[0;34m)\u001b[0m\u001b[0;34m:\u001b[0m\u001b[0;34m\u001b[0m\u001b[0;34m\u001b[0m\u001b[0m\n",
      "\u001b[0;31mIndexError\u001b[0m: index 3 is out of bounds for axis 0 with size 3"
     ]
    }
   ],
   "source": [
    "mixed = picture_worker.combine_two_images(color_blending_operator.porter_duff_source_over_rgb, Z_new,Z_new_1,alpha=0.5)"
   ]
  },
  {
   "cell_type": "code",
   "execution_count": null,
   "metadata": {},
   "outputs": [],
   "source": [
    "mixed = picture_worker.combine_two_images(color_blending_operator.porter_duff_source_over_rgb, mixed,Z_new_2,0.5)"
   ]
  },
  {
   "cell_type": "code",
   "execution_count": null,
   "metadata": {},
   "outputs": [],
   "source": [
    "fig, (ax_0, ax_1, ax_2, ax_3) = plt.subplots(1,4)\n",
    "\n",
    "# displays an image\n",
    "ax_0.imshow(Z_new)\n",
    "ax_0.axis(\"off\")\n",
    "ax_1.imshow(Z_new_1)\n",
    "ax_1.axis(\"off\")\n",
    "ax_2.imshow(Z_new_2)\n",
    "ax_2.axis(\"off\")\n",
    "ax_3.imshow(mixed)\n",
    "ax_3.axis(\"off\")\n",
    "plt.subplots_adjust(0, 0, 1, 1)\n",
    "plt.show()"
   ]
  },
  {
   "cell_type": "code",
   "execution_count": null,
   "metadata": {},
   "outputs": [],
   "source": [
    "#displays an image\n",
    "plt.imshow(mixed)\n",
    "plt.subplots_adjust(0, 0, 1, 1)\n",
    "#plt.axis(\"off\")\n",
    "plt.show()"
   ]
  },
  {
   "cell_type": "code",
   "execution_count": null,
   "metadata": {},
   "outputs": [],
   "source": [
    "color_converter.rgb255_to_rgb01(mixed[1,1])"
   ]
  },
  {
   "cell_type": "code",
   "execution_count": null,
   "metadata": {},
   "outputs": [],
   "source": [
    "color_converter.rgb255_to_rgb01(Z_new[1,1])"
   ]
  }
 ],
 "metadata": {
  "kernelspec": {
   "display_name": "Python 3",
   "language": "python",
   "name": "python3"
  },
  "language_info": {
   "codemirror_mode": {
    "name": "ipython",
    "version": 3
   },
   "file_extension": ".py",
   "mimetype": "text/x-python",
   "name": "python",
   "nbconvert_exporter": "python",
   "pygments_lexer": "ipython3",
   "version": "3.6.7"
  }
 },
 "nbformat": 4,
 "nbformat_minor": 2
}
