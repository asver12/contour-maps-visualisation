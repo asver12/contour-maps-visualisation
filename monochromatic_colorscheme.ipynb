{
 "cells": [
  {
   "cell_type": "code",
   "execution_count": 1,
   "metadata": {},
   "outputs": [],
   "source": [
    "from matplotlib import pyplot as plt\n",
    "from mpl_toolkits.mplot3d import Axes3D\n",
    "from numpy.random import randn\n",
    "%matplotlib inline\n",
    "import numpy as np\n",
    "\n",
    "from src import color_blending_operator\n",
    "from src import color_converter\n",
    "from src import color_operations\n",
    "from src import color_schemes\n",
    "from src import picture_worker\n",
    "from src import helper"
   ]
  },
  {
   "cell_type": "markdown",
   "metadata": {},
   "source": [
    "generate colormap"
   ]
  },
  {
   "cell_type": "code",
   "execution_count": 15,
   "metadata": {},
   "outputs": [],
   "source": [
    "z_min, z_max = 1,10\n",
    "levels = np.linspace(z_min,z_max,10)#[1:6]\n",
    "colormap_green = color_schemes.create_monochromatic_colorscheme([0,0,1,1],levels)"
   ]
  },
  {
   "cell_type": "code",
   "execution_count": 16,
   "metadata": {
    "scrolled": true
   },
   "outputs": [
    {
     "data": {
      "text/plain": [
       "[[0, 0, 1, 1.0],\n",
       " [0, 0, 1, 0.9],\n",
       " [0, 0, 1, 0.8],\n",
       " [0, 0, 1, 0.7],\n",
       " [0, 0, 1, 0.6],\n",
       " [0, 0, 1, 0.5],\n",
       " [0, 0, 1, 0.3999999999999999],\n",
       " [0, 0, 1, 0.29999999999999993],\n",
       " [0, 0, 1, 0.19999999999999996],\n",
       " [0, 0, 1, 0.09999999999999998],\n",
       " [0, 0, 1, 0.0]]"
      ]
     },
     "execution_count": 16,
     "metadata": {},
     "output_type": "execute_result"
    }
   ],
   "source": [
    "colormap_green"
   ]
  }
 ],
 "metadata": {
  "kernelspec": {
   "display_name": "Python 3",
   "language": "python",
   "name": "python3"
  },
  "language_info": {
   "codemirror_mode": {
    "name": "ipython",
    "version": 3
   },
   "file_extension": ".py",
   "mimetype": "text/x-python",
   "name": "python",
   "nbconvert_exporter": "python",
   "pygments_lexer": "ipython3",
   "version": "3.6.7"
  }
 },
 "nbformat": 4,
 "nbformat_minor": 2
}
