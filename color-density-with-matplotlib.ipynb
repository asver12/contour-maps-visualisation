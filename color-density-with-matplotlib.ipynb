{
 "cells": [
  {
   "cell_type": "code",
   "execution_count": 1,
   "metadata": {},
   "outputs": [],
   "source": [
    "import numpy as np\n",
    "import matplotlib.pyplot as plt\n",
    "%matplotlib inline\n",
    "from scipy.stats import kde"
   ]
  },
  {
   "cell_type": "code",
   "execution_count": 3,
   "metadata": {
    "collapsed": true
   },
   "outputs": [],
   "source": [
    "x = np.random.normal(size=500)\n",
    "y = x*3 + np.random.normal(size=500)"
   ]
  },
  {
   "cell_type": "code",
   "execution_count": 5,
   "metadata": {
    "collapsed": true
   },
   "outputs": [],
   "source": [
    "nbins= 5\n",
    "k = kde.gaussian_kde([x,y])\n",
    "x_i, y_i = np.mgrid[x.min():x.max():nbins*1j, y.min():y.max():nbins*1j]\n",
    "z_i = k(np.vstack([x_i.flatten(), y_i.flatten()]))"
   ]
  },
  {
   "cell_type": "code",
   "execution_count": 10,
   "metadata": {},
   "outputs": [
    {
     "data": {
      "text/plain": [
       "<scipy.stats.kde.gaussian_kde at 0x1bc340e7ba8>"
      ]
     },
     "execution_count": 10,
     "metadata": {},
     "output_type": "execute_result"
    }
   ],
   "source": [
    "kde.gaussian_kde([x,y])"
   ]
  },
  {
   "cell_type": "code",
   "execution_count": 9,
   "metadata": {},
   "outputs": [
    {
     "data": {
      "text/plain": [
       "array([[-2.90950389, -2.90950389, -2.90950389, -2.90950389, -2.90950389],\n",
       "       [-1.40657157, -1.40657157, -1.40657157, -1.40657157, -1.40657157],\n",
       "       [ 0.09636075,  0.09636075,  0.09636075,  0.09636075,  0.09636075],\n",
       "       [ 1.59929308,  1.59929308,  1.59929308,  1.59929308,  1.59929308],\n",
       "       [ 3.1022254 ,  3.1022254 ,  3.1022254 ,  3.1022254 ,  3.1022254 ]])"
      ]
     },
     "execution_count": 9,
     "metadata": {},
     "output_type": "execute_result"
    }
   ],
   "source": [
    "x_i"
   ]
  },
  {
   "cell_type": "code",
   "execution_count": 8,
   "metadata": {},
   "outputs": [
    {
     "data": {
      "text/plain": [
       "array([[  3.50607025e-003,   2.28573252e-012,   6.57817966e-073,\n",
       "          1.21792073e-194,   0.00000000e+000],\n",
       "       [  3.45914515e-012,   5.46377922e-002,   1.25764386e-007,\n",
       "          4.33653585e-061,   3.54825828e-180],\n",
       "       [  2.23292314e-084,   6.32147234e-014,   1.03979865e-001,\n",
       "          3.31427688e-005,   4.52361369e-055],\n",
       "       [  4.16326633e-231,   5.84421115e-092,   1.13583964e-017,\n",
       "          3.69670660e-002,   8.56198004e-005],\n",
       "       [  0.00000000e+000,   6.08946667e-243,   5.25081507e-098,\n",
       "          3.45421957e-019,   1.62860436e-003]])"
      ]
     },
     "execution_count": 8,
     "metadata": {},
     "output_type": "execute_result"
    }
   ],
   "source": [
    "z_i.reshape(x_i.shape)"
   ]
  },
  {
   "cell_type": "code",
   "execution_count": 21,
   "metadata": {},
   "outputs": [
    {
     "data": {
      "image/png": "[encoded data removed]",
      "text/plain": [
       "<matplotlib.figure.Figure at 0x1bc35cb0c50>"
      ]
     },
     "metadata": {},
     "output_type": "display_data"
    }
   ],
   "source": [
    "plt.pcolormesh(z_i.reshape(x_i.shape), color=['b', 'r', 'g'])\n",
    "\n",
    "plt.show()"
   ]
  }
 ],
 "metadata": {
  "kernelspec": {
   "display_name": "Python 3",
   "language": "python",
   "name": "python3"
  },
  "language_info": {
   "codemirror_mode": {
    "name": "ipython",
    "version": 3
   },
   "file_extension": ".py",
   "mimetype": "text/x-python",
   "name": "python",
   "nbconvert_exporter": "python",
   "pygments_lexer": "ipython3",
   "version": "3.6.3"
  }
 },
 "nbformat": 4,
 "nbformat_minor": 2
}
