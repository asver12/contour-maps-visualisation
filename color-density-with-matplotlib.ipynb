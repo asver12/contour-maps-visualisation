{
 "cells": [
  {
   "cell_type": "code",
   "execution_count": 1,
   "metadata": {
    "collapsed": true
   },
   "outputs": [],
   "source": [
    "import numpy as np\n",
    "import matplotlib.pyplot as plt\n",
    "%matplotlib inline\n",
    "from scipy.stats import kde"
   ]
  },
  {
   "cell_type": "code",
   "execution_count": 2,
   "metadata": {
    "collapsed": true
   },
   "outputs": [],
   "source": [
    "x = np.random.normal(size=500)\n",
    "y = x*3 + np.random.normal(size=500)"
   ]
  },
  {
   "cell_type": "code",
   "execution_count": 3,
   "metadata": {
    "collapsed": true
   },
   "outputs": [],
   "source": [
    "nbins= 5\n",
    "k = kde.gaussian_kde([x,y])\n",
    "x_i, y_i = np.mgrid[x.min():x.max():nbins*1j, y.min():y.max():nbins*1j]\n",
    "z_i = k(np.vstack([x_i.flatten(), y_i.flatten()]))"
   ]
  },
  {
   "cell_type": "code",
   "execution_count": 4,
   "metadata": {},
   "outputs": [
    {
     "data": {
      "text/plain": [
       "<scipy.stats.kde.gaussian_kde at 0x7f6724e29e10>"
      ]
     },
     "execution_count": 4,
     "metadata": {},
     "output_type": "execute_result"
    }
   ],
   "source": [
    "kde.gaussian_kde([x,y])"
   ]
  },
  {
   "cell_type": "code",
   "execution_count": 5,
   "metadata": {},
   "outputs": [
    {
     "data": {
      "text/plain": [
       "array([[-2.49306213, -2.49306213, -2.49306213, -2.49306213, -2.49306213],\n",
       "       [-1.2234763 , -1.2234763 , -1.2234763 , -1.2234763 , -1.2234763 ],\n",
       "       [ 0.04610953,  0.04610953,  0.04610953,  0.04610953,  0.04610953],\n",
       "       [ 1.31569536,  1.31569536,  1.31569536,  1.31569536,  1.31569536],\n",
       "       [ 2.58528119,  2.58528119,  2.58528119,  2.58528119,  2.58528119]])"
      ]
     },
     "execution_count": 5,
     "metadata": {},
     "output_type": "execute_result"
    }
   ],
   "source": [
    "x_i"
   ]
  },
  {
   "cell_type": "code",
   "execution_count": 6,
   "metadata": {},
   "outputs": [
    {
     "data": {
      "text/plain": [
       "array([[6.92683992e-003, 8.58890193e-008, 7.47452751e-069,\n",
       "        3.71209355e-208, 0.00000000e+000],\n",
       "       [3.92445534e-008, 7.90380301e-002, 2.08593819e-011,\n",
       "        1.18514190e-082, 3.53506156e-232],\n",
       "       [1.85160633e-061, 4.01042438e-006, 1.11036942e-001,\n",
       "        2.75690141e-016, 6.23664779e-101],\n",
       "       [4.71226175e-174, 1.90014940e-051, 5.35760505e-004,\n",
       "        1.93940838e-002, 3.99163954e-028],\n",
       "       [0.00000000e+000, 5.12478069e-156, 2.82440938e-042,\n",
       "        1.01657882e-004, 4.04073963e-003]])"
      ]
     },
     "execution_count": 6,
     "metadata": {},
     "output_type": "execute_result"
    }
   ],
   "source": [
    "z_i.reshape(x_i.shape)"
   ]
  },
  {
   "cell_type": "code",
   "execution_count": 7,
   "metadata": {},
   "outputs": [
    {
     "name": "stdout",
     "output_type": "stream",
     "text": [
      "None\n",
      "<matplotlib.collections.QuadMesh object at 0x7f66f4f7d710>\n"
     ]
    },
    {
     "data": {
      "image/png": "[encoded data removed]",
      "text/plain": [
       "<Figure size 432x288 with 1 Axes>"
      ]
     },
     "metadata": {
      "needs_background": "light"
     },
     "output_type": "display_data"
    }
   ],
   "source": [
    "plt.pcolormesh(z_i.reshape(x_i.shape), color=['b', 'r', 'g'])\n",
    "\n",
    "plt.show()"
   ]
  }
 ],
 "metadata": {
  "kernelspec": {
   "display_name": "Python 3",
   "language": "python",
   "name": "python3"
  },
  "language_info": {
   "codemirror_mode": {
    "name": "ipython",
    "version": 3
   },
   "file_extension": ".py",
   "mimetype": "text/x-python",
   "name": "python",
   "nbconvert_exporter": "python",
   "pygments_lexer": "ipython3",
   "version": "3.6.7"
  }
 },
 "nbformat": 4,
 "nbformat_minor": 2
}
