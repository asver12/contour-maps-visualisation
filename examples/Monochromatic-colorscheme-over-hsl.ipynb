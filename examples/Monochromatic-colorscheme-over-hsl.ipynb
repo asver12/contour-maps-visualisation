{
 "cells": [
  {
   "cell_type": "markdown",
   "metadata": {},
   "source": [
    "# Color-scheme over lightness and saturation"
   ]
  },
  {
   "cell_type": "code",
   "execution_count": 1,
   "metadata": {},
   "outputs": [],
   "source": [
    "from matplotlib import pyplot as plt\n",
    "from numpy.random import randn\n",
    "%matplotlib inline\n",
    "import numpy as np\n",
    "from skimage import color\n",
    "\n",
    "import sys\n",
    "sys.path.append(\"..\")\n",
    "from src import hierarchic_blending_operator\n",
    "from src import color_converter\n",
    "from src import color_operations\n",
    "from src import color_schemes\n",
    "from src import picture_worker\n",
    "from src import helper"
   ]
  },
  {
   "cell_type": "code",
   "execution_count": 2,
   "metadata": {},
   "outputs": [],
   "source": [
    "z_min, z_max = 1,10\n",
    "levels = np.linspace(z_min,z_max,10)"
   ]
  },
  {
   "cell_type": "markdown",
   "metadata": {},
   "source": [
    "## Monochromatic start colors"
   ]
  },
  {
   "cell_type": "code",
   "execution_count": 3,
   "metadata": {},
   "outputs": [],
   "source": [
    "first_start_color = [1.,0.,0.,1.]\n",
    "second_start_color = [0.,1.,0.,1.]\n",
    "third_start_color = [0.,0.,1.,1.]"
   ]
  },
  {
   "cell_type": "code",
   "execution_count": 4,
   "metadata": {
    "scrolled": true
   },
   "outputs": [
    {
     "name": "stdout",
     "output_type": "stream",
     "text": [
      "[ 1.  2.  3.  4.  5.  6.  7.  8.  9. 10.]\n"
     ]
    },
    {
     "data": {
      "text/plain": [
       "[array([1., 1., 1., 1.]),\n",
       " array([1., 1., 1., 1.]),\n",
       " array([0.60493827, 0.77777778, 0.60493827, 1.        ]),\n",
       " array([0.44444444, 0.66666667, 0.44444444, 1.        ]),\n",
       " array([0.30864198, 0.55555556, 0.30864198, 1.        ]),\n",
       " array([0.19753086, 0.44444444, 0.19753086, 1.        ]),\n",
       " array([0.11111111, 0.33333333, 0.11111111, 1.        ]),\n",
       " array([0.04938272, 0.22222222, 0.04938272, 1.        ]),\n",
       " array([0.01234568, 0.11111111, 0.01234568, 1.        ]),\n",
       " array([0., 0., 0., 1.])]"
      ]
     },
     "execution_count": 4,
     "metadata": {},
     "output_type": "execute_result"
    }
   ],
   "source": [
    "color_schemes.create_hsl_colorscheme(second_start_color, levels)"
   ]
  },
  {
   "cell_type": "code",
   "execution_count": 5,
   "metadata": {},
   "outputs": [],
   "source": [
    "x_min, x_max = -10, 10\n",
    "y_min, y_max = -10, 10\n",
    "size = 200\n",
    "\n",
    "mu_x_1 = 0\n",
    "mu_y_1 = 0\n",
    "mu_variance_x_1 = 3\n",
    "mu_variance_y_1 = 15\n",
    "gaussian_1 = ([mu_x_1,mu_y_1],[[mu_variance_x_1,0],[0,mu_variance_y_1]])\n",
    "mu_x_2 = 3\n",
    "mu_y_2 = 3\n",
    "mu_variance_x_2 = 4\n",
    "mu_variance_y_2 = 4\n",
    "gaussian_2 = ([mu_x_2,mu_y_2],[[mu_variance_x_2,0.],[0.,mu_variance_y_2]])\n",
    "mu_x_3 = -2\n",
    "mu_y_3 = -1\n",
    "mu_variance_x_3 = 7\n",
    "mu_variance_y_3 = 7\n",
    "gaussian_3 = ([mu_x_3,mu_y_3],[[mu_variance_x_3,0.],[0.,mu_variance_y_3]])"
   ]
  },
  {
   "cell_type": "code",
   "execution_count": 6,
   "metadata": {},
   "outputs": [],
   "source": [
    "X, Y, Z = helper.get_gaussian(x_min,x_max,y_min,y_max,*gaussian_1,size)\n",
    "X_1, Y_1, Z_1 = helper.get_gaussian(x_min,x_max,y_min,y_max,*gaussian_2,size)\n",
    "X_2, Y_2, Z_2 = helper.get_gaussian(x_min,x_max,y_min,y_max,*gaussian_3,size)"
   ]
  },
  {
   "cell_type": "code",
   "execution_count": 7,
   "metadata": {},
   "outputs": [
    {
     "name": "stdout",
     "output_type": "stream",
     "text": [
      "[0.04560516571255484, 0.13672040435537325, 0.22793829465420878, 0.31897855047484075, 0.40949420297676076, 0.5006554956481883, 0.5923979313361742, 0.682773815007732, 0.7730134082174278, 0.8641536933725498, 0.9548329559615578]\n"
     ]
    }
   ],
   "source": [
    "Z_new, Z_alpha = picture_worker.get_colorgrid(Z,color_schemes.create_hsl_colorscheme,num_of_levels=10,startcolor=first_start_color, lvl_white = 1)"
   ]
  },
  {
   "cell_type": "code",
   "execution_count": 10,
   "metadata": {},
   "outputs": [
    {
     "name": "stdout",
     "output_type": "stream",
     "text": [
      "[0.045454467574319035, 0.13649754760600824, 0.22727074781054324, 0.3177454337505544, 0.4086023631279981, 0.5000623900042158, 0.5904688978729321, 0.6817080583514374, 0.7732939436174222, 0.8633257068417421, 0.9542487165507434]\n"
     ]
    }
   ],
   "source": [
    "Z_new_1, Z_alpha_1 = picture_worker.get_colorgrid(Z_1,color_schemes.create_hsl_colorscheme,num_of_levels=10,startcolor=second_start_color)\n"
   ]
  },
  {
   "cell_type": "code",
   "execution_count": 11,
   "metadata": {},
   "outputs": [
    {
     "name": "stdout",
     "output_type": "stream",
     "text": [
      "[0.04564073663095724, 0.13675535199792177, 0.22718119012645244, 0.317554893507647, 0.40932685971308935, 0.5006451547820909, 0.5921755360931066, 0.6828130026330481, 0.7729265648409585, 0.8643941783741032, 0.9549116938902468]\n"
     ]
    }
   ],
   "source": [
    "Z_new_2, Z_alpha_2 = picture_worker.get_colorgrid(Z_2,color_schemes.create_hsl_colorscheme,num_of_levels=10,startcolor=third_start_color)"
   ]
  },
  {
   "cell_type": "code",
   "execution_count": 12,
   "metadata": {},
   "outputs": [],
   "source": [
    "mixed, alpha_new = picture_worker.combine_two_images_hierarchic(hierarchic_blending_operator.porter_duff_source_over, Z_new, Z, Z_new_1, Z_1)"
   ]
  },
  {
   "cell_type": "code",
   "execution_count": 13,
   "metadata": {},
   "outputs": [],
   "source": [
    "mixed, _ = picture_worker.combine_two_images_hierarchic(hierarchic_blending_operator.porter_duff_source_over, mixed,alpha_new,Z_new_2,Z_2)"
   ]
  },
  {
   "cell_type": "code",
   "execution_count": 14,
   "metadata": {},
   "outputs": [
    {
     "data": {
      "image/png": "[encoded data removed]",
      "text/plain": [
       "<Figure size 432x288 with 4 Axes>"
      ]
     },
     "metadata": {
      "needs_background": "light"
     },
     "output_type": "display_data"
    }
   ],
   "source": [
    "fig, (ax_0, ax_1, ax_2, ax_3) = plt.subplots(1,4)\n",
    "\n",
    "# displays an image\n",
    "ax_0.imshow(Z_new)\n",
    "ax_0.axis(\"off\")\n",
    "ax_1.imshow(Z_new_1)\n",
    "ax_1.axis(\"off\")\n",
    "ax_2.imshow(Z_new_2)\n",
    "ax_2.axis(\"off\")\n",
    "ax_3.imshow(mixed)\n",
    "ax_3.axis(\"off\")\n",
    "plt.subplots_adjust(bottom=0.0, left=0, right=3, top=3)\n",
    "plt.show()"
   ]
  },
  {
   "cell_type": "code",
   "execution_count": null,
   "metadata": {},
   "outputs": [],
   "source": []
  }
 ],
 "metadata": {
  "kernelspec": {
   "display_name": "Python 3",
   "language": "python",
   "name": "python3"
  },
  "language_info": {
   "codemirror_mode": {
    "name": "ipython",
    "version": 3
   },
   "file_extension": ".py",
   "mimetype": "text/x-python",
   "name": "python",
   "nbconvert_exporter": "python",
   "pygments_lexer": "ipython3",
   "version": "3.6.7"
  }
 },
 "nbformat": 4,
 "nbformat_minor": 2
}
