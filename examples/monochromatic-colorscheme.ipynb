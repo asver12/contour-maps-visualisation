{
 "cells": [
  {
   "cell_type": "code",
   "execution_count": 1,
   "metadata": {},
   "outputs": [],
   "source": [
    "import numpy as np\n",
    "\n",
    "import sys\n",
    "sys.path.append(\"..\")\n",
    "from src import color_schemes"
   ]
  },
  {
   "cell_type": "markdown",
   "metadata": {},
   "source": [
    "generate colormap"
   ]
  },
  {
   "cell_type": "code",
   "execution_count": 2,
   "metadata": {},
   "outputs": [],
   "source": [
    "z_min, z_max = 1,10\n",
    "levels = np.linspace(z_min,z_max,10)#[1:6]\n",
    "colormap_green = color_schemes.create_monochromatic_colorscheme([0,0,1,1],levels)"
   ]
  },
  {
   "cell_type": "code",
   "execution_count": 3,
   "metadata": {
    "scrolled": true
   },
   "outputs": [
    {
     "data": {
      "text/plain": [
       "[array([1., 1., 1., 1.]),\n",
       " array([1., 1., 1., 1.]),\n",
       " [0.0, 0.0, 1.0, 0.2],\n",
       " [0.0, 0.0, 1.0, 0.30000000000000004],\n",
       " [0.0, 0.0, 1.0, 0.4],\n",
       " [0.0, 0.0, 1.0, 0.5],\n",
       " [0.0, 0.0, 1.0, 0.6000000000000001],\n",
       " [0.0, 0.0, 1.0, 0.7000000000000001],\n",
       " [0.0, 0.0, 1.0, 0.8],\n",
       " [0.0, 0.0, 1.0, 0.9],\n",
       " [0.0, 0.0, 1.0, 1.0]]"
      ]
     },
     "execution_count": 3,
     "metadata": {},
     "output_type": "execute_result"
    }
   ],
   "source": [
    "colormap_green"
   ]
  }
 ],
 "metadata": {
  "kernelspec": {
   "display_name": "Python 3",
   "language": "python",
   "name": "python3"
  },
  "language_info": {
   "codemirror_mode": {
    "name": "ipython",
    "version": 3
   },
   "file_extension": ".py",
   "mimetype": "text/x-python",
   "name": "python",
   "nbconvert_exporter": "python",
   "pygments_lexer": "ipython3",
   "version": "3.6.7"
  }
 },
 "nbformat": 4,
 "nbformat_minor": 2
}
