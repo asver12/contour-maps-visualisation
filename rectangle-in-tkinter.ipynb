{
 "cells": [
  {
   "cell_type": "code",
   "execution_count": 2,
   "metadata": {},
   "outputs": [],
   "source": [
    "import tkinter as tk\n",
    "from src import color_blending_operator\n",
    "from src import color_converter"
   ]
  },
  {
   "cell_type": "code",
   "execution_count": 9,
   "metadata": {},
   "outputs": [],
   "source": [
    "rot = [1,0,0]\n",
    "gruen = [0,1,0]\n",
    "blau = [0,0,1]\n",
    "alpha = 0.5\n",
    "rot_gruen  = color_blending_operator.porter_duff_source_over(rot,gruen,alpha)\n",
    "blau_gruen = color_blending_operator.porter_duff_source_over(blau,gruen,alpha)\n",
    "rot_blau = color_blending_operator.porter_duff_source_over(rot,blau,alpha)\n",
    "rot_gruen_blau = color_blending_operator.porter_duff_source_over(rot_blau,gruen,alpha)"
   ]
  },
  {
   "cell_type": "code",
   "execution_count": 13,
   "metadata": {},
   "outputs": [],
   "source": [
    "root = tk.Tk()\n",
    "canvas = tk.Canvas(root, width = 400, height= 400)\n",
    "canvas.pack()\n",
    "canvas.create_rectangle(0,0,300,300, fill=color_converter.rgb_to_hex(rot), outline=\"\")\n",
    "canvas.create_rectangle(100,100,400,400, fill=color_converter.rgb_to_hex(gruen), outline=\"\")\n",
    "canvas.create_rectangle(0,400,300,100, fill=color_converter.rgb_to_hex(blau), outline=\"\")\n",
    "canvas.create_rectangle(100,400,300,300, fill=color_converter.rgb_to_hex(blau_gruen), outline=\"\")\n",
    "canvas.create_rectangle(0,100,200,300, fill=color_converter.rgb_to_hex(rot_gruen), outline=\"\")\n",
    "#canvas.create_rectangle(0,100,200,300, fill=color_converter.rgb_to_hex(rot_gruen), outline=\"\")\n",
    "canvas.create_rectangle(100,100,300,300, fill=color_converter.rgb_to_hex(rot_gruen_blau), outline=\"\")\n",
    "root.mainloop()"
   ]
  }
 ],
 "metadata": {
  "kernelspec": {
   "display_name": "Python 3",
   "language": "python",
   "name": "python3"
  },
  "language_info": {
   "codemirror_mode": {
    "name": "ipython",
    "version": 3
   },
   "file_extension": ".py",
   "mimetype": "text/x-python",
   "name": "python",
   "nbconvert_exporter": "python",
   "pygments_lexer": "ipython3",
   "version": "3.6.7"
  }
 },
 "nbformat": 4,
 "nbformat_minor": 2
}
