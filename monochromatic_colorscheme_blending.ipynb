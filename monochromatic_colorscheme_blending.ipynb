{
 "cells": [
  {
   "cell_type": "code",
   "execution_count": 1,
   "metadata": {},
   "outputs": [],
   "source": [
    "from matplotlib import pyplot as plt\n",
    "from mpl_toolkits.mplot3d import Axes3D\n",
    "from numpy.random import randn\n",
    "%matplotlib inline\n",
    "import numpy as np\n",
    "\n",
    "import color_blending_operator\n",
    "import color_converter\n",
    "import color_operations\n",
    "import color_schemes\n",
    "import picture_worker\n",
    "import helper"
   ]
  },
  {
   "cell_type": "code",
   "execution_count": 2,
   "metadata": {
    "collapsed": true
   },
   "outputs": [],
   "source": [
    "x_min, x_max = -10, 10\n",
    "y_min, y_max = -10, 10\n",
    "size = 100\n",
    "\n",
    "mu_x_1 = 0\n",
    "mu_y_1 = 0\n",
    "mu_variance_x_1 = 3\n",
    "mu_variance_y_1 = 15\n",
    "gaussian_1 = (mu_x_1,mu_variance_x_1,mu_y_1,mu_variance_y_1)\n",
    "mu_x_2 = 3\n",
    "mu_y_2 = 3\n",
    "mu_variance_x_2 = 4\n",
    "mu_variance_y_2 = 4\n",
    "gaussian_2 = (mu_x_2,mu_variance_x_2,mu_y_2,mu_variance_y_2)\n"
   ]
  },
  {
   "cell_type": "code",
   "execution_count": 3,
   "metadata": {
    "scrolled": false
   },
   "outputs": [],
   "source": [
    "X, Y, Z = helper.get_gaussian(x_min,x_max,y_min,y_max,*gaussian_1,size)\n",
    "X_1, Y_1, Z_1 = helper.get_gaussian(x_min,x_max,y_min,y_max,*gaussian_2,size)"
   ]
  },
  {
   "cell_type": "code",
   "execution_count": 4,
   "metadata": {
    "collapsed": true
   },
   "outputs": [],
   "source": [
    "z_min, z_max = np.min(Z), np.max(Z)\n",
    "levels = np.linspace(z_min,z_max,10)#[1:6]\n",
    "colormap_green = color_schemes.create_monochromatic_colorscheme([0,0,1,1],levels)\n",
    "Z_new = color_operations.map_colors(Z, colormap_green,levels)"
   ]
  },
  {
   "cell_type": "code",
   "execution_count": 5,
   "metadata": {},
   "outputs": [],
   "source": [
    "z_min, z_max = np.min(Z_1), np.max(Z_1)\n",
    "levels = np.linspace(z_min,z_max,10)#[1:6]\n",
    "colormap_red = color_schemes.create_monochromatic_colorscheme([1,0,0,1],levels)\n",
    "Z_new_1 = color_operations.map_colors(Z_1, colormap_red,levels)"
   ]
  },
  {
   "cell_type": "code",
   "execution_count": 6,
   "metadata": {},
   "outputs": [
    {
     "data": {
      "text/plain": [
       "[[255, 0, 0, 255],\n",
       " [255, 0, 0, 229],\n",
       " [255, 0, 0, 204],\n",
       " [255, 0, 0, 178],\n",
       " [255, 0, 0, 153],\n",
       " [255, 0, 0, 127],\n",
       " [255, 0, 0, 101],\n",
       " [255, 0, 0, 76],\n",
       " [255, 0, 0, 50],\n",
       " [255, 0, 0, 25],\n",
       " [255, 0, 0, 0]]"
      ]
     },
     "execution_count": 6,
     "metadata": {},
     "output_type": "execute_result"
    }
   ],
   "source": [
    "colormap_red"
   ]
  },
  {
   "cell_type": "code",
   "execution_count": 7,
   "metadata": {},
   "outputs": [
    {
     "data": {
      "text/plain": [
       "(1.0, 0.96862745098039216, 0.98431372549019602, 1.0)"
      ]
     },
     "execution_count": 7,
     "metadata": {},
     "output_type": "execute_result"
    }
   ],
   "source": [
    "from matplotlib import cm\n",
    "cm.PuBu(0)"
   ]
  },
  {
   "cell_type": "code",
   "execution_count": 8,
   "metadata": {
    "collapsed": true
   },
   "outputs": [],
   "source": [
    "mixed = picture_worker.combine_two_images(color_blending_operator.porter_duff_source_over, Z_new,Z_new_1,0.5)"
   ]
  },
  {
   "cell_type": "code",
   "execution_count": 9,
   "metadata": {},
   "outputs": [
    {
     "data": {
      "image/png": "[encoded data removed]",
      "text/plain": [
       "<matplotlib.figure.Figure at 0x11e5c00b710>"
      ]
     },
     "metadata": {},
     "output_type": "display_data"
    }
   ],
   "source": [
    "fig, (ax_0, ax_1, ax_2) = plt.subplots(1,3)\n",
    "\n",
    "# displays an image\n",
    "ax_0.imshow(Z_new_1)\n",
    "ax_0.axis(\"off\")\n",
    "ax_1.imshow(Z_new)\n",
    "ax_1.axis(\"off\")\n",
    "ax_2.imshow(mixed)\n",
    "ax_2.axis(\"off\")\n",
    "plt.subplots_adjust(0, 0, 1, 1)\n",
    "plt.show()"
   ]
  },
  {
   "cell_type": "code",
   "execution_count": 10,
   "metadata": {},
   "outputs": [
    {
     "data": {
      "image/png": "[encoded data removed]",
      "text/plain": [
       "<matplotlib.figure.Figure at 0x11e5a61c7b8>"
      ]
     },
     "metadata": {},
     "output_type": "display_data"
    }
   ],
   "source": [
    "#displays an image\n",
    "plt.imshow(mixed)\n",
    "plt.subplots_adjust(0, 0, 1, 1)\n",
    "#plt.axis(\"off\")\n",
    "plt.show()"
   ]
  }
 ],
 "metadata": {
  "kernelspec": {
   "display_name": "Python 3",
   "language": "python",
   "name": "python3"
  },
  "language_info": {
   "codemirror_mode": {
    "name": "ipython",
    "version": 3
   },
   "file_extension": ".py",
   "mimetype": "text/x-python",
   "name": "python",
   "nbconvert_exporter": "python",
   "pygments_lexer": "ipython3",
   "version": "3.6.3"
  }
 },
 "nbformat": 4,
 "nbformat_minor": 2
}
