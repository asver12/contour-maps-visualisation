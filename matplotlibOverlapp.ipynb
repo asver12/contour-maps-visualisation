{
 "cells": [
  {
   "cell_type": "code",
   "execution_count": 1,
   "metadata": {
    "collapsed": true
   },
   "outputs": [],
   "source": [
    "from matplotlib import pyplot as plt\n",
    "from numpy.random import randn\n",
    "%matplotlib inline\n",
    "import numpy as np\n",
    "import color_converter\n",
    "import color_blending_operator"
   ]
  },
  {
   "cell_type": "code",
   "execution_count": 95,
   "metadata": {},
   "outputs": [
    {
     "data": {
      "text/plain": [
       "(array([[ 1.,  1.,  0., ...,  0.,  0.,  0.],\n",
       "        [ 0.,  1.,  0., ...,  0.,  0.,  0.],\n",
       "        [ 1.,  0.,  2., ...,  0.,  0.,  0.],\n",
       "        ..., \n",
       "        [ 0.,  0.,  0., ...,  1.,  0.,  0.],\n",
       "        [ 0.,  0.,  0., ...,  0.,  1.,  0.],\n",
       "        [ 0.,  0.,  0., ...,  0.,  0.,  1.]]),\n",
       " array([-4.08545436, -3.91421823, -3.74298209, -3.57174596, -3.40050982,\n",
       "        -3.22927369, -3.05803755, -2.88680141, -2.71556528, -2.54432914,\n",
       "        -2.37309301, -2.20185687, -2.03062074, -1.8593846 , -1.68814846,\n",
       "        -1.51691233, -1.34567619, -1.17444006, -1.00320392, -0.83196778,\n",
       "        -0.66073165, -0.48949551, -0.31825938, -0.14702324,  0.02421289,\n",
       "         0.19544903,  0.36668517,  0.5379213 ,  0.70915744,  0.88039357,\n",
       "         1.05162971,  1.22286585,  1.39410198,  1.56533812,  1.73657425,\n",
       "         1.90781039,  2.07904652,  2.25028266,  2.4215188 ,  2.59275493,\n",
       "         2.76399107,  2.9352272 ,  3.10646334,  3.27769948,  3.44893561,\n",
       "         3.62017175,  3.79140788,  3.96264402,  4.13388015,  4.30511629,\n",
       "         4.47635243]),\n",
       " array([-13.17532863, -12.61403551, -12.05274239, -11.49144928,\n",
       "        -10.93015616, -10.36886304,  -9.80756992,  -9.2462768 ,\n",
       "         -8.68498368,  -8.12369057,  -7.56239745,  -7.00110433,\n",
       "         -6.43981121,  -5.87851809,  -5.31722497,  -4.75593185,\n",
       "         -4.19463874,  -3.63334562,  -3.0720525 ,  -2.51075938,\n",
       "         -1.94946626,  -1.38817314,  -0.82688003,  -0.26558691,\n",
       "          0.29570621,   0.85699933,   1.41829245,   1.97958557,\n",
       "          2.54087869,   3.1021718 ,   3.66346492,   4.22475804,\n",
       "          4.78605116,   5.34734428,   5.9086374 ,   6.46993051,\n",
       "          7.03122363,   7.59251675,   8.15380987,   8.71510299,\n",
       "          9.27639611,   9.83768922,  10.39898234,  10.96027546,\n",
       "         11.52156858,  12.0828617 ,  12.64415482,  13.20544794,\n",
       "         13.76674105,  14.32803417,  14.88932729]),\n",
       " <matplotlib.image.AxesImage at 0x1799c1e9320>)"
      ]
     },
     "execution_count": 95,
     "metadata": {},
     "output_type": "execute_result"
    },
    {
     "data": {
      "image/png": "[encoded data removed]",
      "text/plain": [
       "<matplotlib.figure.Figure at 0x1799c1e2be0>"
      ]
     },
     "metadata": {},
     "output_type": "display_data"
    }
   ],
   "source": [
    "x_1 = np.random.normal(size=50000)\n",
    "y_1 = x_1 * 3 + np.random.normal(size=50000)\n",
    "x_2 = np.random.normal(size=50000)\n",
    "y_2 = x_2 * -3 + np.random.normal(size=50000) + 10\n",
    "plt.hist2d(x_1, y_1, bins=(50, 50), cmap=plt.cm.OrRd)"
   ]
  },
  {
   "cell_type": "code",
   "execution_count": 101,
   "metadata": {
    "scrolled": true
   },
   "outputs": [
    {
     "data": {
      "image/png": "[encoded data removed]",
      "text/plain": [
       "<matplotlib.figure.Figure at 0x1799c2bf8d0>"
      ]
     },
     "metadata": {},
     "output_type": "display_data"
    }
   ],
   "source": [
    "fig, ax = plt.subplots()\n",
    "ax.hist2d(x_1, y_1, bins=(50, 50), cmap=plt.cm.OrRd)\n",
    "ax.set_xlim(-4, 4)\n",
    "ax.set_ylim(-10, 20)\n",
    "ax.patch.set_facecolor(\"none\")\n",
    "ax.patch.set_edgecolor(\"none\")\n",
    "fig.canvas.draw()\n",
    "\n",
    "w, h = fig.canvas.get_width_height()\n",
    "img = np.frombuffer(fig.canvas.buffer_rgba(), np.uint8).reshape(h, w, -1).copy()\n",
    "ax.clear()\n",
    "ax.hist2d(x_2, y_2, bins=(50, 50), cmap=plt.cm.BuPu)\n",
    "ax.set_xlim(-4, 4)\n",
    "ax.set_ylim(-10, 20)\n",
    "ax.patch.set_facecolor(\"none\")\n",
    "ax.patch.set_edgecolor(\"none\")\n",
    "fig.canvas.draw()\n",
    "\n",
    "img2 = np.frombuffer(fig.canvas.buffer_rgba(), np.uint8).reshape(h, w, -1).copy()\n",
    "\n",
    "img[img[:, :, -1] == 0] = 0\n",
    "img2[img2[:, :, -1] == 0] = 0\n",
    "\n",
    "fig.clf()\n",
    "\n",
    "plt.imshow(np.maximum(img, img2))\n",
    "plt.subplots_adjust(0, 0, 1, 1)\n",
    "# removes axis for picture\n",
    "plt.axis(\"off\")\n",
    "plt.show()"
   ]
  },
  {
   "cell_type": "code",
   "execution_count": 75,
   "metadata": {
    "collapsed": true
   },
   "outputs": [],
   "source": [
    "def convert(a,b,alpha):\n",
    "    def convert_rgb01(x):\n",
    "        return color_converter.rgb255_to_rgb01(x)\n",
    "    def convert_rgb255(x):\n",
    "        return color_converter.rgb01_to_rgb255(x)\n",
    "    return [*convert_rgb255(color_blending_operator.porter_duff_source_over(convert_rgb01(a),convert_rgb01(b),alpha))]"
   ]
  },
  {
   "cell_type": "code",
   "execution_count": 40,
   "metadata": {},
   "outputs": [
    {
     "data": {
      "text/plain": [
       "[1.0, 0.47843137254901963, 0.51764705882352946, 0]"
      ]
     },
     "execution_count": 40,
     "metadata": {},
     "output_type": "execute_result"
    }
   ],
   "source": [
    "list(convert([255, 122, 132, 2],[255, 122, 132, 2],0.5))"
   ]
  },
  {
   "cell_type": "code",
   "execution_count": 98,
   "metadata": {},
   "outputs": [],
   "source": [
    "reduce = np.zeros([h,w,3])\n",
    "for i in range(h):\n",
    "    for j in range(w):\n",
    "        reduce[i][j] = convert(img[i][j],img2[i][j],0.5)"
   ]
  },
  {
   "cell_type": "code",
   "execution_count": 102,
   "metadata": {
    "scrolled": true
   },
   "outputs": [
    {
     "data": {
      "image/png": "[encoded data removed]",
      "text/plain": [
       "<matplotlib.figure.Figure at 0x1799c0decf8>"
      ]
     },
     "metadata": {},
     "output_type": "display_data"
    }
   ],
   "source": [
    "\n",
    "# displays an image\n",
    "plt.imshow(reduce)\n",
    "plt.subplots_adjust(0, 0, 1, 1)\n",
    "\n",
    "# removes axis for picture\n",
    "#plt.axis(\"off\")\n",
    "plt.show()"
   ]
  }
 ],
 "metadata": {
  "kernelspec": {
   "display_name": "Python 3",
   "language": "python",
   "name": "python3"
  },
  "language_info": {
   "codemirror_mode": {
    "name": "ipython",
    "version": 3
   },
   "file_extension": ".py",
   "mimetype": "text/x-python",
   "name": "python",
   "nbconvert_exporter": "python",
   "pygments_lexer": "ipython3",
   "version": "3.6.3"
  }
 },
 "nbformat": 4,
 "nbformat_minor": 2
}
