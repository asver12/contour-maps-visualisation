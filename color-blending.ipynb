{
 "cells": [
  {
   "cell_type": "code",
   "execution_count": 1,
   "metadata": {
    "collapsed": true
   },
   "outputs": [],
   "source": [
    "import numpy as np\n",
    "import matplotlib.pyplot as plt\n",
    "%matplotlib inline\n",
    "import itertools"
   ]
  },
  {
   "cell_type": "code",
   "execution_count": 2,
   "metadata": {},
   "outputs": [],
   "source": [
    "import color_blending_operator"
   ]
  },
  {
   "cell_type": "code",
   "execution_count": 3,
   "metadata": {},
   "outputs": [],
   "source": [
    "points_1 = list(itertools.permutations(range(0,11),2))\n",
    "points_2 = list(itertools.permutations(range(5,16),2))"
   ]
  },
  {
   "cell_type": "code",
   "execution_count": 4,
   "metadata": {},
   "outputs": [],
   "source": [
    "rot = [1,0,0]\n",
    "gruen = [0,1,0]\n",
    "alpha = 0.4\n",
    "gelb = color_blending_operator.porter_duff_operator(rot,gruen,alpha)"
   ]
  },
  {
   "cell_type": "code",
   "execution_count": 5,
   "metadata": {},
   "outputs": [],
   "source": [
    "colors = []\n",
    "for i in points_2:\n",
    "    if i[0] > 4 and i[1] > 4 and i[0] < 11 and i[1] < 11:\n",
    "        colors.append(gelb)\n",
    "    else:\n",
    "        colors.append(gruen)"
   ]
  },
  {
   "cell_type": "code",
   "execution_count": 6,
   "metadata": {},
   "outputs": [
    {
     "data": {
      "image/png": "[encoded data removed]",
      "text/plain": [
       "<matplotlib.figure.Figure at 0x23a10f0e198>"
      ]
     },
     "metadata": {},
     "output_type": "display_data"
    }
   ],
   "source": [
    "for i,point in enumerate(points_1):\n",
    "    plt.scatter(point[0],point[1],c=rot)\n",
    "for i,point in enumerate(points_2):\n",
    "    plt.scatter(point[0],point[1],c=colors[i])\n",
    "\n",
    "#plt.plot(*zip(*points_1),'o',color=colors)\n",
    "plt.show()"
   ]
  }
 ],
 "metadata": {
  "kernelspec": {
   "display_name": "Python 3",
   "language": "python",
   "name": "python3"
  },
  "language_info": {
   "codemirror_mode": {
    "name": "ipython",
    "version": 3
   },
   "file_extension": ".py",
   "mimetype": "text/x-python",
   "name": "python",
   "nbconvert_exporter": "python",
   "pygments_lexer": "ipython3",
   "version": "3.6.3"
  }
 },
 "nbformat": 4,
 "nbformat_minor": 2
}
