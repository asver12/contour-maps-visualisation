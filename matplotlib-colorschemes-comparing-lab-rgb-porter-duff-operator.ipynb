{
 "cells": [
  {
   "cell_type": "markdown",
   "metadata": {},
   "source": [
    "## This notebook compares the porter-duff-operator in the rgb- and lab-colorspace"
   ]
  },
  {
   "cell_type": "code",
   "execution_count": 1,
   "metadata": {},
   "outputs": [],
   "source": [
    "from matplotlib import pyplot as plt\n",
    "from numpy.random import randn\n",
    "%matplotlib inline\n",
    "import numpy as np\n",
    "from skimage import color\n",
    "\n",
    "from src import color_blending_operator\n",
    "from src import color_converter\n",
    "from src import color_operations\n",
    "from src import color_schemes\n",
    "from src import picture_worker\n",
    "from src import helper"
   ]
  },
  {
   "cell_type": "code",
   "execution_count": 2,
   "metadata": {},
   "outputs": [],
   "source": [
    "x_min, x_max = -10, 10\n",
    "y_min, y_max = -10, 10\n",
    "size = 200\n",
    "\n",
    "mu_x_1 = 0\n",
    "mu_y_1 = 0\n",
    "mu_variance_x_1 = 3\n",
    "mu_variance_y_1 = 15\n",
    "gaussian_1 = (mu_x_1,mu_variance_x_1,mu_y_1,mu_variance_y_1)\n",
    "mu_x_2 = 3\n",
    "mu_y_2 = 3\n",
    "mu_variance_x_2 = 4\n",
    "mu_variance_y_2 = 4\n",
    "gaussian_2 = (mu_x_2,mu_variance_x_2,mu_y_2,mu_variance_y_2)\n",
    "mu_x_3 = -2\n",
    "mu_y_3 = -1\n",
    "mu_variance_x_3 = 7\n",
    "mu_variance_y_3 = 7\n",
    "gaussian_3 = (mu_x_3,mu_variance_x_3,mu_y_3,mu_variance_y_3)"
   ]
  },
  {
   "cell_type": "code",
   "execution_count": 3,
   "metadata": {},
   "outputs": [],
   "source": [
    "X, Y, Z = helper.get_gaussian(x_min,x_max,y_min,y_max,*gaussian_1,size)\n",
    "X_1, Y_1, Z_1 = helper.get_gaussian(x_min,x_max,y_min,y_max,*gaussian_2,size)\n",
    "X_2, Y_2, Z_2 = helper.get_gaussian(x_min,x_max,y_min,y_max,*gaussian_3,size)"
   ]
  },
  {
   "cell_type": "code",
   "execution_count": 4,
   "metadata": {},
   "outputs": [],
   "source": [
    "Z_color, Z_alpha = picture_worker.get_colorgrid(Z,color_schemes.matplotlib_colorschemes,10,colorscheme=\"PuBu\")\n",
    "Z_color_1, Z_alpha_1 = picture_worker.get_colorgrid(Z_1,color_schemes.matplotlib_colorschemes,10,colorscheme=\"OrRd\")\n",
    "Z_color_2, Z_alpha_2 = picture_worker.get_colorgrid(Z_2,color_schemes.matplotlib_colorschemes,10,colorscheme=\"RdPu\")"
   ]
  },
  {
   "cell_type": "markdown",
   "metadata": {},
   "source": [
    "Porter-Duff-Operator"
   ]
  },
  {
   "cell_type": "code",
   "execution_count": 5,
   "metadata": {},
   "outputs": [],
   "source": [
    "mixed_rgb = picture_worker.combine_two_images(color_blending_operator.porter_duff_source_over, Z_color,Z_color_1,alpha=0.5)"
   ]
  },
  {
   "cell_type": "code",
   "execution_count": 6,
   "metadata": {
    "scrolled": true
   },
   "outputs": [
    {
     "name": "stdout",
     "output_type": "stream",
     "text": [
      "Lab-Color is used\n"
     ]
    }
   ],
   "source": [
    "mixed_lab = picture_worker.combine_two_images(color_blending_operator.porter_duff_source_over, Z_color,Z_color_1,\"lab\",alpha=0.5)"
   ]
  },
  {
   "cell_type": "code",
   "execution_count": 7,
   "metadata": {},
   "outputs": [
    {
     "name": "stdout",
     "output_type": "stream",
     "text": [
      "Hsv-Color is used\n"
     ]
    }
   ],
   "source": [
    "mixed_hsv = picture_worker.combine_two_images(color_blending_operator.porter_duff_source_over, Z_color,Z_color_1,\"hsv\",alpha=0.5)"
   ]
  },
  {
   "cell_type": "code",
   "execution_count": 24,
   "metadata": {},
   "outputs": [
    {
     "data": {
      "image/png": "[encoded data removed]",
      "text/plain": [
       "<Figure size 432x288 with 3 Axes>"
      ]
     },
     "metadata": {
      "needs_background": "light"
     },
     "output_type": "display_data"
    }
   ],
   "source": [
    "#displays an image\n",
    "fig, (ax_0, ax_1, ax_2) = plt.subplots(1,3)\n",
    "fig.suptitle(\"Porter-Duff-Source-Over\")\n",
    "ax_0.set_title(\"rgb\")\n",
    "ax_0.imshow(mixed_rgb)\n",
    "ax_0.axis(\"off\")\n",
    "ax_1.set_title(\"lab\")\n",
    "ax_1.imshow(mixed_lab)\n",
    "ax_1.axis(\"off\")\n",
    "ax_2.set_title(\"hsv\")\n",
    "ax_2.imshow(mixed_hsv)\n",
    "ax_2.axis(\"off\")\n",
    "plt.subplots_adjust(0, 0, 1, 1)\n",
    "#plt.axis(\"off\")\n",
    "plt.show()"
   ]
  },
  {
   "cell_type": "markdown",
   "metadata": {},
   "source": [
    "Color-Multiplication"
   ]
  },
  {
   "cell_type": "code",
   "execution_count": 9,
   "metadata": {},
   "outputs": [],
   "source": [
    "mixed_rgb_mult = picture_worker.combine_two_images(color_blending_operator.simple_color_mult, Z_color,Z_color_1)"
   ]
  },
  {
   "cell_type": "code",
   "execution_count": 10,
   "metadata": {
    "scrolled": true
   },
   "outputs": [
    {
     "name": "stdout",
     "output_type": "stream",
     "text": [
      "Lab-Color is used\n"
     ]
    }
   ],
   "source": [
    "mixed_lab_mult = picture_worker.combine_two_images(color_blending_operator.simple_color_mult, Z_color,Z_color_1,\"lab\")"
   ]
  },
  {
   "cell_type": "code",
   "execution_count": 11,
   "metadata": {},
   "outputs": [
    {
     "name": "stdout",
     "output_type": "stream",
     "text": [
      "Hsv-Color is used\n"
     ]
    }
   ],
   "source": [
    "mixed_hsv_mult = picture_worker.combine_two_images(color_blending_operator.simple_color_mult, Z_color,Z_color_1,\"hsv\")"
   ]
  },
  {
   "cell_type": "code",
   "execution_count": 25,
   "metadata": {},
   "outputs": [
    {
     "data": {
      "image/png": "[encoded data removed]",
      "text/plain": [
       "<Figure size 432x288 with 3 Axes>"
      ]
     },
     "metadata": {
      "needs_background": "light"
     },
     "output_type": "display_data"
    }
   ],
   "source": [
    "#displays an image\n",
    "fig, (ax_0, ax_1, ax_2) = plt.subplots(1,3)\n",
    "fig.suptitle(\"Color Multiplication\")\n",
    "ax_0.set_title(\"rgb\")\n",
    "ax_0.imshow(mixed_rgb_mult)\n",
    "ax_0.axis(\"off\")\n",
    "\n",
    "ax_1.set_title(\"lab\")\n",
    "ax_1.imshow(mixed_lab_mult)\n",
    "ax_1.axis(\"off\")\n",
    "\n",
    "ax_2.set_title(\"hsv\")\n",
    "ax_2.imshow(mixed_hsv_mult)\n",
    "ax_2.axis(\"off\")\n",
    "\n",
    "plt.subplots_adjust(0, 0, 1, 1)\n",
    "#plt.axis(\"off\")\n",
    "plt.show()"
   ]
  },
  {
   "cell_type": "markdown",
   "metadata": {},
   "source": [
    "The porter-duff-operator on single variables"
   ]
  },
  {
   "cell_type": "code",
   "execution_count": 17,
   "metadata": {},
   "outputs": [],
   "source": [
    "def plot_value_combination(blending_operator, Z_color, Z_color_1, Z_color_2, alpha, position):\n",
    "    mixed_rgb_sect = picture_worker.combine_two_images(blending_operator, Z_color,Z_color_1,alpha=0.5,position=position)\n",
    "    mixed_lab_sect = picture_worker.combine_two_images(blending_operator, Z_color,Z_color_1,\"lab\",alpha=0.5,position=position)\n",
    "    mixed_hsv_sect = picture_worker.combine_two_images(blending_operator, Z_color,Z_color_1,\"hsv\",alpha=0.5,position=position)\n",
    "    fig, (ax_0, ax_1, ax_2) = plt.subplots(1,3)\n",
    "    fig.suptitle(\"Color Multiplication\")\n",
    "    ax_0.set_title(\"rgb\")\n",
    "    ax_0.imshow(mixed_rgb_sect)\n",
    "    ax_0.axis(\"off\")\n",
    "    ax_1.set_title(\"lab\")\n",
    "    ax_1.imshow(mixed_lab_sect)\n",
    "    ax_1.axis(\"off\")\n",
    "    ax_2.set_title(\"hsv\")\n",
    "    ax_2.imshow(mixed_hsv_sect)\n",
    "    ax_2.axis(\"off\")\n",
    "    plt.subplots_adjust(0, 0, 1, 1)\n",
    "    #plt.axis(\"off\")\n",
    "    plt.show()"
   ]
  },
  {
   "cell_type": "code",
   "execution_count": 14,
   "metadata": {},
   "outputs": [
    {
     "name": "stdout",
     "output_type": "stream",
     "text": [
      "Lab-Color is used\n",
      "Hsv-Color is used\n"
     ]
    },
    {
     "data": {
      "image/png": "[encoded data removed]",
      "text/plain": [
       "<Figure size 432x288 with 3 Axes>"
      ]
     },
     "metadata": {
      "needs_background": "light"
     },
     "output_type": "display_data"
    }
   ],
   "source": [
    "plot_value_combination(color_blending_operator.blend_one_point_color, Z_color,Z_color_1,Z_color_2,0.5,0)"
   ]
  },
  {
   "cell_type": "code",
   "execution_count": 15,
   "metadata": {},
   "outputs": [
    {
     "name": "stdout",
     "output_type": "stream",
     "text": [
      "Lab-Color is used\n",
      "Hsv-Color is used\n"
     ]
    },
    {
     "data": {
      "image/png": "[encoded data removed]",
      "text/plain": [
       "<Figure size 432x288 with 3 Axes>"
      ]
     },
     "metadata": {
      "needs_background": "light"
     },
     "output_type": "display_data"
    }
   ],
   "source": [
    "plot_value_combination(color_blending_operator.blend_one_point_color, Z_color,Z_color_1,Z_color_2,0.5,1)"
   ]
  },
  {
   "cell_type": "code",
   "execution_count": 16,
   "metadata": {},
   "outputs": [
    {
     "name": "stdout",
     "output_type": "stream",
     "text": [
      "Lab-Color is used\n",
      "Hsv-Color is used\n"
     ]
    },
    {
     "data": {
      "image/png": "[encoded data removed]",
      "text/plain": [
       "<Figure size 432x288 with 3 Axes>"
      ]
     },
     "metadata": {
      "needs_background": "light"
     },
     "output_type": "display_data"
    }
   ],
   "source": [
    "plot_value_combination(color_blending_operator.blend_one_point_color, Z_color,Z_color_1,Z_color_2,0.5,2)"
   ]
  }
 ],
 "metadata": {
  "kernelspec": {
   "display_name": "Python 3",
   "language": "python",
   "name": "python3"
  },
  "language_info": {
   "codemirror_mode": {
    "name": "ipython",
    "version": 3
   },
   "file_extension": ".py",
   "mimetype": "text/x-python",
   "name": "python",
   "nbconvert_exporter": "python",
   "pygments_lexer": "ipython3",
   "version": "3.6.7"
  }
 },
 "nbformat": 4,
 "nbformat_minor": 2
}
