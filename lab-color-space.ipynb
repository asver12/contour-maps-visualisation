{
 "cells": [
  {
   "cell_type": "code",
   "execution_count": 1,
   "metadata": {},
   "outputs": [],
   "source": [
    "from matplotlib import pyplot as plt\n",
    "from numpy.random import randn\n",
    "%matplotlib inline\n",
    "import numpy as np\n",
    "from skimage import color\n",
    "\n",
    "from src import color_blending_operator\n",
    "from src import color_converter\n",
    "from src import color_operations\n",
    "from src import color_schemes\n",
    "from src import picture_worker\n",
    "from src import hierarchic_picture_worker\n",
    "from src import helper"
   ]
  },
  {
   "cell_type": "code",
   "execution_count": 2,
   "metadata": {},
   "outputs": [],
   "source": [
    "x_min, x_max = -10, 10\n",
    "y_min, y_max = -10, 10\n",
    "size = 200\n",
    "\n",
    "mu_x_1 = 0\n",
    "mu_y_1 = 0\n",
    "mu_variance_x_1 = 3\n",
    "mu_variance_y_1 = 15\n",
    "gaussian_1 = (mu_x_1,mu_variance_x_1,mu_y_1,mu_variance_y_1)\n",
    "mu_x_2 = 3\n",
    "mu_y_2 = 3\n",
    "mu_variance_x_2 = 4\n",
    "mu_variance_y_2 = 4\n",
    "gaussian_2 = (mu_x_2,mu_variance_x_2,mu_y_2,mu_variance_y_2)\n",
    "mu_x_3 = -2\n",
    "mu_y_3 = -1\n",
    "mu_variance_x_3 = 7\n",
    "mu_variance_y_3 = 7\n",
    "gaussian_3 = (mu_x_3,mu_variance_x_3,mu_y_3,mu_variance_y_3)"
   ]
  },
  {
   "cell_type": "code",
   "execution_count": 3,
   "metadata": {},
   "outputs": [],
   "source": [
    "X, Y, Z = helper.get_gaussian(x_min,x_max,y_min,y_max,*gaussian_1,size)\n",
    "X_1, Y_1, Z_1 = helper.get_gaussian(x_min,x_max,y_min,y_max,*gaussian_2,size)\n",
    "X_2, Y_2, Z_2 = helper.get_gaussian(x_min,x_max,y_min,y_max,*gaussian_3,size)\n",
    "Z_color, Z_alpha = picture_worker.get_colorgrid(Z,color_schemes.matplotlib_colorschemes,10,colorscheme=\"PuBu\")\n",
    "Z_color_1, Z_alpha_1 = picture_worker.get_colorgrid(Z_1,color_schemes.matplotlib_colorschemes,10,colorscheme=\"OrRd\")\n",
    "Z_color_2, Z_alpha_2 = picture_worker.get_colorgrid(Z_2,color_schemes.matplotlib_colorschemes,10,colorscheme=\"RdPu\")"
   ]
  },
  {
   "cell_type": "code",
   "execution_count": 4,
   "metadata": {},
   "outputs": [
    {
     "data": {
      "text/plain": [
       "(-0.5, 199.5, 199.5, -0.5)"
      ]
     },
     "execution_count": 4,
     "metadata": {},
     "output_type": "execute_result"
    },
    {
     "data": {
      "image/png": "[encoded data removed]",
      "text/plain": [
       "<Figure size 432x288 with 1 Axes>"
      ]
     },
     "metadata": {
      "needs_background": "light"
     },
     "output_type": "display_data"
    }
   ],
   "source": [
    "mixed_rgb = picture_worker.combine_two_images(color_blending_operator.porter_duff_source_over, Z_color,Z_color_1,alpha=0.5)\n",
    "mixed_rgb = picture_worker.combine_two_images(color_blending_operator.porter_duff_source_over, mixed_rgb,Z_color_2,alpha=0.5)\n",
    "plt.imshow(mixed_rgb)\n",
    "plt.axis(\"off\")"
   ]
  },
  {
   "cell_type": "code",
   "execution_count": 61,
   "metadata": {},
   "outputs": [],
   "source": [
    "Z_color_lab = color.rgb2lab(Z_color)\n",
    "Z_color_1_lab = color.rgb2lab(Z_color_1)\n",
    "Z_color_2_lab = color.rgb2lab(Z_color_2)"
   ]
  },
  {
   "cell_type": "code",
   "execution_count": 62,
   "metadata": {},
   "outputs": [],
   "source": [
    "def lab_color_operator_min(color_1,color_2, alpha):\n",
    "    return np.array([np.minimum(color_1[i], color_2[i]) for i in range(len(color_1))])"
   ]
  },
  {
   "cell_type": "code",
   "execution_count": 94,
   "metadata": {},
   "outputs": [],
   "source": [
    "def lab_color_operator_porter_duff(color_1, color_2, alpha):\n",
    "    new_color = color_1.copy()\n",
    "    new_color[1] = color_1[1]*alpha + color_2[1]*(1-alpha)\n",
    "    new_color[2] = color_1[2]*alpha + color_2[2]*(1-alpha)\n",
    "    new_color[0] = color_1[0]*alpha + color_2[0]*(1-alpha)\n",
    "    return new_color"
   ]
  },
  {
   "cell_type": "code",
   "execution_count": 95,
   "metadata": {},
   "outputs": [],
   "source": [
    "mixed_lab = picture_worker.combine_two_images(lab_color_operator_porter_duff, Z_color_lab,Z_color_1_lab,alpha=0.5)\n",
    "#mixed_lab = picture_worker.combine_two_images(lab_color_operator_porter_duff, mixed_lab,Z_color_2_lab,alpha=0.5)"
   ]
  },
  {
   "cell_type": "code",
   "execution_count": 96,
   "metadata": {},
   "outputs": [
    {
     "data": {
      "text/plain": [
       "(-0.5, 199.5, 199.5, -0.5)"
      ]
     },
     "execution_count": 96,
     "metadata": {},
     "output_type": "execute_result"
    },
    {
     "data": {
      "image/png": "[encoded data removed]",
      "text/plain": [
       "<Figure size 432x288 with 1 Axes>"
      ]
     },
     "metadata": {
      "needs_background": "light"
     },
     "output_type": "display_data"
    }
   ],
   "source": [
    "mixed = color.lab2rgb(mixed_lab)\n",
    "plt.imshow(mixed)\n",
    "plt.axis(\"off\")"
   ]
  },
  {
   "cell_type": "code",
   "execution_count": 10,
   "metadata": {},
   "outputs": [],
   "source": [
    "mixed_rgb = picture_worker.combine_two_images(lab_color_operator_min, Z_color,Z_color_1,alpha=0.5)\n",
    "mixed_rgb = picture_worker.combine_two_images(lab_color_operator_min, mixed_rgb,Z_color_2,alpha=0.5)"
   ]
  },
  {
   "cell_type": "code",
   "execution_count": 11,
   "metadata": {},
   "outputs": [
    {
     "data": {
      "text/plain": [
       "(-0.5, 199.5, 199.5, -0.5)"
      ]
     },
     "execution_count": 11,
     "metadata": {},
     "output_type": "execute_result"
    },
    {
     "data": {
      "image/png": "[encoded data removed]",
      "text/plain": [
       "<Figure size 432x288 with 1 Axes>"
      ]
     },
     "metadata": {
      "needs_background": "light"
     },
     "output_type": "display_data"
    }
   ],
   "source": [
    "#mixed = color.lab2rgb(mixed_lab)\n",
    "plt.imshow(mixed_rgb)\n",
    "plt.axis(\"off\")"
   ]
  },
  {
   "cell_type": "code",
   "execution_count": 12,
   "metadata": {},
   "outputs": [],
   "source": [
    "def lab_color_operator_min(color_1, z_1, color_2, z_2):\n",
    "    #if abs(color_1[1]) < 0.2 and abs(color_1[2]) < 0.2:\n",
    "    #    return color_2\n",
    "    #if abs(color_2[1]) < 0.2 and abs(color_2[2]) < 0.2:\n",
    "    #    return color_1\n",
    "    # color_1[0] = 100\n",
    "    # color_1[1] = color_1[1]*alpha + color_2[1]*(1-alpha)\n",
    "    # color_1[2] = color_1[2]*alpha + color_2[2]*(1-alpha)\n",
    "    # color_1[1] = color_2[1]\n",
    "    alpha = z_1 / (z_1 + z_2)\n",
    "    for i in range(len(color_1)):\n",
    "        if color_1[i]*alpha < color_1[i]*(1-alpha):\n",
    "            color_1[i] = color_2[i]\n",
    "    if z_1 < z_2:\n",
    "        z_new = z_2\n",
    "    else:\n",
    "        z_new = z_1\n",
    "    return color_1, z_new"
   ]
  },
  {
   "cell_type": "code",
   "execution_count": 13,
   "metadata": {},
   "outputs": [
    {
     "data": {
      "text/plain": [
       "(-0.5, 199.5, 199.5, -0.5)"
      ]
     },
     "execution_count": 13,
     "metadata": {},
     "output_type": "execute_result"
    },
    {
     "data": {
      "image/png": "[encoded data removed]",
      "text/plain": [
       "<Figure size 432x288 with 1 Axes>"
      ]
     },
     "metadata": {
      "needs_background": "light"
     },
     "output_type": "display_data"
    }
   ],
   "source": [
    "mixed_rgb, z_new = hierarchic_picture_worker.combine_two_images(lab_color_operator_min, Z_color, Z, Z_color_1, Z_1)\n",
    "mixed_rgb, z_new = hierarchic_picture_worker.combine_two_images(lab_color_operator_min, mixed_rgb, z_new, Z_color_2, Z_2)\n",
    "plt.imshow(mixed_rgb)\n",
    "plt.axis(\"off\")"
   ]
  },
  {
   "cell_type": "code",
   "execution_count": 14,
   "metadata": {},
   "outputs": [],
   "source": [
    "def lab_color_operator_weighted(color_1, z_1, color_2, z_2):\n",
    "    if abs(color_1[1]) < 0.2 and abs(color_1[2]) < 0.2:\n",
    "        return color_2, z_2\n",
    "    if abs(color_2[1]) < 0.2 and abs(color_2[2]) < 0.2:\n",
    "        return color_1, z_1\n",
    "    alpha = z_1 / (z_1 + z_2)\n",
    "    # color_1[0] = 100\n",
    "    color_1[1] = color_1[1]*alpha + color_2[1]*(1-alpha)\n",
    "    color_1[2] = color_1[2]*alpha + color_2[2]*(1-alpha)\n",
    "    # color_1[1] = color_2[1]\n",
    "    return color_1, z_1 * alpha + z_2 * (1 - alpha)"
   ]
  },
  {
   "cell_type": "code",
   "execution_count": 15,
   "metadata": {
    "scrolled": false
   },
   "outputs": [],
   "source": [
    "mixed_lab, z_new = hierarchic_picture_worker.combine_two_images(lab_color_operator_weighted, Z_color_lab, Z, Z_color_1_lab, Z_1)\n",
    "#mixed_lab, z_new = hierarchic_picture_worker.combine_two_images(lab_color_operator_weighted, mixed_lab,z_new,Z_color_2_lab,Z_2)"
   ]
  },
  {
   "cell_type": "code",
   "execution_count": 16,
   "metadata": {},
   "outputs": [
    {
     "data": {
      "text/plain": [
       "(-0.5, 199.5, 199.5, -0.5)"
      ]
     },
     "execution_count": 16,
     "metadata": {},
     "output_type": "execute_result"
    },
    {
     "data": {
      "image/png": "[encoded data removed]",
      "text/plain": [
       "<Figure size 432x288 with 1 Axes>"
      ]
     },
     "metadata": {
      "needs_background": "light"
     },
     "output_type": "display_data"
    }
   ],
   "source": [
    "mixed = color.lab2rgb(mixed_lab)\n",
    "plt.imshow(mixed_rgb)\n",
    "plt.axis(\"off\")"
   ]
  }
 ],
 "metadata": {
  "kernelspec": {
   "display_name": "Python 3",
   "language": "python",
   "name": "python3"
  },
  "language_info": {
   "codemirror_mode": {
    "name": "ipython",
    "version": 3
   },
   "file_extension": ".py",
   "mimetype": "text/x-python",
   "name": "python",
   "nbconvert_exporter": "python",
   "pygments_lexer": "ipython3",
   "version": "3.6.7"
  }
 },
 "nbformat": 4,
 "nbformat_minor": 2
}
